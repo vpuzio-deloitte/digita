{
  "cells": [
    {
      "cell_type": "markdown",
      "metadata": {
        "id": "71doM1OUvYg6"
      },
      "source": [
        "## Init e dependencies"
      ]
    },
    {
      "cell_type": "code",
      "execution_count": null,
      "metadata": {
        "colab": {
          "base_uri": "https://localhost:8080/"
        },
        "id": "1bA4gJX0vYg7",
        "outputId": "5f11c8e0-ce94-47d9-b4a6-ba91ea6ef778"
      },
      "outputs": [
        {
          "name": "stdout",
          "output_type": "stream",
          "text": [
            "Defaulting to user installation because normal site-packages is not writeable\n",
            "Requirement already satisfied: langchain==0.2.7 in /home/vpuzio/.local/lib/python3.10/site-packages (0.2.7)\n",
            "Requirement already satisfied: langchain_aws in /home/vpuzio/.local/lib/python3.10/site-packages (0.1.18)\n",
            "Requirement already satisfied: langchain-community in /home/vpuzio/.local/lib/python3.10/site-packages (0.2.7)\n",
            "Requirement already satisfied: langchain_core in /home/vpuzio/.local/lib/python3.10/site-packages (0.2.43)\n",
            "Requirement already satisfied: boto3 in /home/vpuzio/.local/lib/python3.10/site-packages (1.34.162)\n",
            "Requirement already satisfied: botocore in /home/vpuzio/.local/lib/python3.10/site-packages (1.34.162)\n",
            "Requirement already satisfied: langsmith<0.2.0,>=0.1.17 in /home/vpuzio/.local/lib/python3.10/site-packages (from langchain==0.2.7) (0.1.147)\n",
            "Requirement already satisfied: tenacity!=8.4.0,<9.0.0,>=8.1.0 in /home/vpuzio/.local/lib/python3.10/site-packages (from langchain==0.2.7) (8.2.3)\n",
            "Requirement already satisfied: PyYAML>=5.3 in /usr/lib/python3/dist-packages (from langchain==0.2.7) (5.4.1)\n",
            "Requirement already satisfied: langchain-text-splitters<0.3.0,>=0.2.0 in /home/vpuzio/.local/lib/python3.10/site-packages (from langchain==0.2.7) (0.2.4)\n",
            "Requirement already satisfied: numpy<2,>=1 in /home/vpuzio/.local/lib/python3.10/site-packages (from langchain==0.2.7) (1.26.0)\n",
            "Requirement already satisfied: pydantic<3,>=1 in /home/vpuzio/.local/lib/python3.10/site-packages (from langchain==0.2.7) (2.6.3)\n",
            "Requirement already satisfied: aiohttp<4.0.0,>=3.8.3 in /home/vpuzio/.local/lib/python3.10/site-packages (from langchain==0.2.7) (3.9.3)\n",
            "Requirement already satisfied: requests<3,>=2 in /home/vpuzio/.local/lib/python3.10/site-packages (from langchain==0.2.7) (2.31.0)\n",
            "Requirement already satisfied: async-timeout<5.0.0,>=4.0.0 in /home/vpuzio/.local/lib/python3.10/site-packages (from langchain==0.2.7) (4.0.3)\n",
            "Requirement already satisfied: SQLAlchemy<3,>=1.4 in /home/vpuzio/.local/lib/python3.10/site-packages (from langchain==0.2.7) (2.0.27)\n",
            "Requirement already satisfied: dataclasses-json<0.7,>=0.5.7 in /home/vpuzio/.local/lib/python3.10/site-packages (from langchain-community) (0.6.4)\n",
            "Requirement already satisfied: typing-extensions>=4.7 in /home/vpuzio/.local/lib/python3.10/site-packages (from langchain_core) (4.9.0)\n",
            "Requirement already satisfied: packaging<25,>=23.2 in /home/vpuzio/.local/lib/python3.10/site-packages (from langchain_core) (23.2)\n",
            "Requirement already satisfied: jsonpatch<2.0,>=1.33 in /home/vpuzio/.local/lib/python3.10/site-packages (from langchain_core) (1.33)\n",
            "Requirement already satisfied: jmespath<2.0.0,>=0.7.1 in /home/vpuzio/.local/lib/python3.10/site-packages (from boto3) (1.0.1)\n",
            "Requirement already satisfied: s3transfer<0.11.0,>=0.10.0 in /home/vpuzio/.local/lib/python3.10/site-packages (from boto3) (0.10.1)\n",
            "Requirement already satisfied: python-dateutil<3.0.0,>=2.1 in /home/vpuzio/.local/lib/python3.10/site-packages (from botocore) (2.8.2)\n",
            "Requirement already satisfied: urllib3!=2.2.0,<3,>=1.25.4 in /home/vpuzio/.local/lib/python3.10/site-packages (from botocore) (2.2.1)\n",
            "Requirement already satisfied: aiosignal>=1.1.2 in /home/vpuzio/.local/lib/python3.10/site-packages (from aiohttp<4.0.0,>=3.8.3->langchain==0.2.7) (1.3.1)\n",
            "Requirement already satisfied: attrs>=17.3.0 in /home/vpuzio/.local/lib/python3.10/site-packages (from aiohttp<4.0.0,>=3.8.3->langchain==0.2.7) (23.2.0)\n",
            "Requirement already satisfied: multidict<7.0,>=4.5 in /home/vpuzio/.local/lib/python3.10/site-packages (from aiohttp<4.0.0,>=3.8.3->langchain==0.2.7) (6.0.5)\n",
            "Requirement already satisfied: yarl<2.0,>=1.0 in /home/vpuzio/.local/lib/python3.10/site-packages (from aiohttp<4.0.0,>=3.8.3->langchain==0.2.7) (1.9.4)\n",
            "Requirement already satisfied: frozenlist>=1.1.1 in /home/vpuzio/.local/lib/python3.10/site-packages (from aiohttp<4.0.0,>=3.8.3->langchain==0.2.7) (1.4.1)\n",
            "Requirement already satisfied: marshmallow<4.0.0,>=3.18.0 in /home/vpuzio/.local/lib/python3.10/site-packages (from dataclasses-json<0.7,>=0.5.7->langchain-community) (3.21.0)\n",
            "Requirement already satisfied: typing-inspect<1,>=0.4.0 in /home/vpuzio/.local/lib/python3.10/site-packages (from dataclasses-json<0.7,>=0.5.7->langchain-community) (0.9.0)\n",
            "Requirement already satisfied: jsonpointer>=1.9 in /home/vpuzio/.local/lib/python3.10/site-packages (from jsonpatch<2.0,>=1.33->langchain_core) (2.4)\n",
            "Requirement already satisfied: httpx<1,>=0.23.0 in /home/vpuzio/.local/lib/python3.10/site-packages (from langsmith<0.2.0,>=0.1.17->langchain==0.2.7) (0.27.0)\n",
            "Requirement already satisfied: requests-toolbelt<2.0.0,>=1.0.0 in /home/vpuzio/.local/lib/python3.10/site-packages (from langsmith<0.2.0,>=0.1.17->langchain==0.2.7) (1.0.0)\n",
            "Requirement already satisfied: orjson<4.0.0,>=3.9.14 in /home/vpuzio/.local/lib/python3.10/site-packages (from langsmith<0.2.0,>=0.1.17->langchain==0.2.7) (3.9.15)\n",
            "Requirement already satisfied: annotated-types>=0.4.0 in /home/vpuzio/.local/lib/python3.10/site-packages (from pydantic<3,>=1->langchain==0.2.7) (0.6.0)\n",
            "Requirement already satisfied: pydantic-core==2.16.3 in /home/vpuzio/.local/lib/python3.10/site-packages (from pydantic<3,>=1->langchain==0.2.7) (2.16.3)\n",
            "Requirement already satisfied: six>=1.5 in /usr/lib/python3/dist-packages (from python-dateutil<3.0.0,>=2.1->botocore) (1.16.0)\n",
            "Requirement already satisfied: charset-normalizer<4,>=2 in /home/vpuzio/.local/lib/python3.10/site-packages (from requests<3,>=2->langchain==0.2.7) (3.3.2)\n",
            "Requirement already satisfied: idna<4,>=2.5 in /home/vpuzio/.local/lib/python3.10/site-packages (from requests<3,>=2->langchain==0.2.7) (3.6)\n",
            "Requirement already satisfied: certifi>=2017.4.17 in /home/vpuzio/.local/lib/python3.10/site-packages (from requests<3,>=2->langchain==0.2.7) (2024.2.2)\n",
            "Requirement already satisfied: greenlet!=0.4.17 in /home/vpuzio/.local/lib/python3.10/site-packages (from SQLAlchemy<3,>=1.4->langchain==0.2.7) (3.0.3)\n",
            "Requirement already satisfied: anyio in /home/vpuzio/.local/lib/python3.10/site-packages (from httpx<1,>=0.23.0->langsmith<0.2.0,>=0.1.17->langchain==0.2.7) (4.3.0)\n",
            "Requirement already satisfied: httpcore==1.* in /home/vpuzio/.local/lib/python3.10/site-packages (from httpx<1,>=0.23.0->langsmith<0.2.0,>=0.1.17->langchain==0.2.7) (1.0.4)\n",
            "Requirement already satisfied: sniffio in /home/vpuzio/.local/lib/python3.10/site-packages (from httpx<1,>=0.23.0->langsmith<0.2.0,>=0.1.17->langchain==0.2.7) (1.3.1)\n",
            "Requirement already satisfied: h11<0.15,>=0.13 in /home/vpuzio/.local/lib/python3.10/site-packages (from httpcore==1.*->httpx<1,>=0.23.0->langsmith<0.2.0,>=0.1.17->langchain==0.2.7) (0.14.0)\n",
            "Requirement already satisfied: mypy-extensions>=0.3.0 in /home/vpuzio/.local/lib/python3.10/site-packages (from typing-inspect<1,>=0.4.0->dataclasses-json<0.7,>=0.5.7->langchain-community) (1.0.0)\n",
            "Requirement already satisfied: exceptiongroup>=1.0.2 in /home/vpuzio/.local/lib/python3.10/site-packages (from anyio->httpx<1,>=0.23.0->langsmith<0.2.0,>=0.1.17->langchain==0.2.7) (1.2.0)\n",
            "Defaulting to user installation because normal site-packages is not writeable\n",
            "Collecting dotenv\n",
            "  Using cached dotenv-0.0.5.tar.gz (2.4 kB)\n",
            "  Preparing metadata (setup.py) ... \u001b[?25lerror\n",
            "  \u001b[1;31merror\u001b[0m: \u001b[1msubprocess-exited-with-error\u001b[0m\n",
            "  \n",
            "  \u001b[31m×\u001b[0m \u001b[32mpython setup.py egg_info\u001b[0m did not run successfully.\n",
            "  \u001b[31m│\u001b[0m exit code: \u001b[1;36m1\u001b[0m\n",
            "  \u001b[31m╰─>\u001b[0m \u001b[31m[64 lines of output]\u001b[0m\n",
            "  \u001b[31m   \u001b[0m /usr/lib/python3/dist-packages/setuptools/installer.py:27: SetuptoolsDeprecationWarning: setuptools.installer is deprecated. Requirements should be satisfied by a PEP 517 installer.\n",
            "  \u001b[31m   \u001b[0m   warnings.warn(\n",
            "  \u001b[31m   \u001b[0m   error: subprocess-exited-with-error\n",
            "  \u001b[31m   \u001b[0m \n",
            "  \u001b[31m   \u001b[0m   × python setup.py egg_info did not run successfully.\n",
            "  \u001b[31m   \u001b[0m   │ exit code: 1\n",
            "  \u001b[31m   \u001b[0m   ╰─> [16 lines of output]\n",
            "  \u001b[31m   \u001b[0m       Traceback (most recent call last):\n",
            "  \u001b[31m   \u001b[0m         File \"<string>\", line 2, in <module>\n",
            "  \u001b[31m   \u001b[0m         File \"<pip-setuptools-caller>\", line 14, in <module>\n",
            "  \u001b[31m   \u001b[0m         File \"/tmp/pip-wheel-30hirj05/distribute_fd6c7cc820a74ea0b7b2de2b0cde63f7/setuptools/__init__.py\", line 2, in <module>\n",
            "  \u001b[31m   \u001b[0m           from setuptools.extension import Extension, Library\n",
            "  \u001b[31m   \u001b[0m         File \"/tmp/pip-wheel-30hirj05/distribute_fd6c7cc820a74ea0b7b2de2b0cde63f7/setuptools/extension.py\", line 5, in <module>\n",
            "  \u001b[31m   \u001b[0m           from setuptools.dist import _get_unpatched\n",
            "  \u001b[31m   \u001b[0m         File \"/tmp/pip-wheel-30hirj05/distribute_fd6c7cc820a74ea0b7b2de2b0cde63f7/setuptools/dist.py\", line 7, in <module>\n",
            "  \u001b[31m   \u001b[0m           from setuptools.command.install import install\n",
            "  \u001b[31m   \u001b[0m         File \"/tmp/pip-wheel-30hirj05/distribute_fd6c7cc820a74ea0b7b2de2b0cde63f7/setuptools/command/__init__.py\", line 8, in <module>\n",
            "  \u001b[31m   \u001b[0m           from setuptools.command import install_scripts\n",
            "  \u001b[31m   \u001b[0m         File \"/tmp/pip-wheel-30hirj05/distribute_fd6c7cc820a74ea0b7b2de2b0cde63f7/setuptools/command/install_scripts.py\", line 3, in <module>\n",
            "  \u001b[31m   \u001b[0m           from pkg_resources import Distribution, PathMetadata, ensure_directory\n",
            "  \u001b[31m   \u001b[0m         File \"/tmp/pip-wheel-30hirj05/distribute_fd6c7cc820a74ea0b7b2de2b0cde63f7/pkg_resources.py\", line 1518, in <module>\n",
            "  \u001b[31m   \u001b[0m           register_loader_type(importlib_bootstrap.SourceFileLoader, DefaultProvider)\n",
            "  \u001b[31m   \u001b[0m       AttributeError: module 'importlib._bootstrap' has no attribute 'SourceFileLoader'\n",
            "  \u001b[31m   \u001b[0m       [end of output]\n",
            "  \u001b[31m   \u001b[0m \n",
            "  \u001b[31m   \u001b[0m   note: This error originates from a subprocess, and is likely not a problem with pip.\n",
            "  \u001b[31m   \u001b[0m error: metadata-generation-failed\n",
            "  \u001b[31m   \u001b[0m \n",
            "  \u001b[31m   \u001b[0m × Encountered error while generating package metadata.\n",
            "  \u001b[31m   \u001b[0m ╰─> See above for output.\n",
            "  \u001b[31m   \u001b[0m \n",
            "  \u001b[31m   \u001b[0m note: This is an issue with the package mentioned above, not pip.\n",
            "  \u001b[31m   \u001b[0m hint: See above for details.\n",
            "  \u001b[31m   \u001b[0m Traceback (most recent call last):\n",
            "  \u001b[31m   \u001b[0m   File \"/usr/lib/python3/dist-packages/setuptools/installer.py\", line 82, in fetch_build_egg\n",
            "  \u001b[31m   \u001b[0m     subprocess.check_call(cmd)\n",
            "  \u001b[31m   \u001b[0m   File \"/usr/lib/python3.10/subprocess.py\", line 369, in check_call\n",
            "  \u001b[31m   \u001b[0m     raise CalledProcessError(retcode, cmd)\n",
            "  \u001b[31m   \u001b[0m subprocess.CalledProcessError: Command '['/usr/bin/python3', '-m', 'pip', '--disable-pip-version-check', 'wheel', '--no-deps', '-w', '/tmp/tmp3o4q79os', '--quiet', 'distribute']' returned non-zero exit status 1.\n",
            "  \u001b[31m   \u001b[0m \n",
            "  \u001b[31m   \u001b[0m The above exception was the direct cause of the following exception:\n",
            "  \u001b[31m   \u001b[0m \n",
            "  \u001b[31m   \u001b[0m Traceback (most recent call last):\n",
            "  \u001b[31m   \u001b[0m   File \"<string>\", line 2, in <module>\n",
            "  \u001b[31m   \u001b[0m   File \"<pip-setuptools-caller>\", line 34, in <module>\n",
            "  \u001b[31m   \u001b[0m   File \"/tmp/pip-install-hwkm9v4q/dotenv_32c89c7827674341bef561bfb038dfb5/setup.py\", line 13, in <module>\n",
            "  \u001b[31m   \u001b[0m     setup(name='dotenv',\n",
            "  \u001b[31m   \u001b[0m   File \"/usr/lib/python3/dist-packages/setuptools/__init__.py\", line 152, in setup\n",
            "  \u001b[31m   \u001b[0m     _install_setup_requires(attrs)\n",
            "  \u001b[31m   \u001b[0m   File \"/usr/lib/python3/dist-packages/setuptools/__init__.py\", line 147, in _install_setup_requires\n",
            "  \u001b[31m   \u001b[0m     dist.fetch_build_eggs(dist.setup_requires)\n",
            "  \u001b[31m   \u001b[0m   File \"/usr/lib/python3/dist-packages/setuptools/dist.py\", line 812, in fetch_build_eggs\n",
            "  \u001b[31m   \u001b[0m     resolved_dists = pkg_resources.working_set.resolve(\n",
            "  \u001b[31m   \u001b[0m   File \"/usr/lib/python3/dist-packages/pkg_resources/__init__.py\", line 771, in resolve\n",
            "  \u001b[31m   \u001b[0m     dist = best[req.key] = env.best_match(\n",
            "  \u001b[31m   \u001b[0m   File \"/usr/lib/python3/dist-packages/pkg_resources/__init__.py\", line 1056, in best_match\n",
            "  \u001b[31m   \u001b[0m     return self.obtain(req, installer)\n",
            "  \u001b[31m   \u001b[0m   File \"/usr/lib/python3/dist-packages/pkg_resources/__init__.py\", line 1068, in obtain\n",
            "  \u001b[31m   \u001b[0m     return installer(requirement)\n",
            "  \u001b[31m   \u001b[0m   File \"/usr/lib/python3/dist-packages/setuptools/dist.py\", line 883, in fetch_build_egg\n",
            "  \u001b[31m   \u001b[0m     return fetch_build_egg(self, req)\n",
            "  \u001b[31m   \u001b[0m   File \"/usr/lib/python3/dist-packages/setuptools/installer.py\", line 84, in fetch_build_egg\n",
            "  \u001b[31m   \u001b[0m     raise DistutilsError(str(e)) from e\n",
            "  \u001b[31m   \u001b[0m distutils.errors.DistutilsError: Command '['/usr/bin/python3', '-m', 'pip', '--disable-pip-version-check', 'wheel', '--no-deps', '-w', '/tmp/tmp3o4q79os', '--quiet', 'distribute']' returned non-zero exit status 1.\n",
            "  \u001b[31m   \u001b[0m \u001b[31m[end of output]\u001b[0m\n",
            "  \n",
            "  \u001b[1;35mnote\u001b[0m: This error originates from a subprocess, and is likely not a problem with pip.\n",
            "\u001b[?25h\u001b[1;31merror\u001b[0m: \u001b[1mmetadata-generation-failed\u001b[0m\n",
            "\n",
            "\u001b[31m×\u001b[0m Encountered error while generating package metadata.\n",
            "\u001b[31m╰─>\u001b[0m See above for output.\n",
            "\n",
            "\u001b[1;35mnote\u001b[0m: This is an issue with the package mentioned above, not pip.\n",
            "\u001b[1;36mhint\u001b[0m: See above for details.\n"
          ]
        }
      ],
      "source": [
        "! pip install langchain==0.2.7 langchain_aws langchain-community langchain_core boto3 botocore\n",
        "! pip install dotenv"
      ]
    },
    {
      "cell_type": "code",
      "execution_count": 34,
      "metadata": {},
      "outputs": [
        {
          "name": "stdout",
          "output_type": "stream",
          "text": [
            "Defaulting to user installation because normal site-packages is not writeable\n",
            "Requirement already satisfied: pymupdf in /home/vpuzio/.local/lib/python3.10/site-packages (1.25.3)\n",
            "Requirement already satisfied: python-docx in /home/vpuzio/.local/lib/python3.10/site-packages (1.1.2)\n",
            "Requirement already satisfied: pydantic in /home/vpuzio/.local/lib/python3.10/site-packages (2.6.3)\n",
            "Requirement already satisfied: lxml>=3.1.0 in /home/vpuzio/.local/lib/python3.10/site-packages (from python-docx) (5.3.0)\n",
            "Requirement already satisfied: typing-extensions>=4.9.0 in /home/vpuzio/.local/lib/python3.10/site-packages (from python-docx) (4.9.0)\n",
            "Requirement already satisfied: annotated-types>=0.4.0 in /home/vpuzio/.local/lib/python3.10/site-packages (from pydantic) (0.6.0)\n",
            "Requirement already satisfied: pydantic-core==2.16.3 in /home/vpuzio/.local/lib/python3.10/site-packages (from pydantic) (2.16.3)\n"
          ]
        }
      ],
      "source": [
        "! pip install pymupdf python-docx pydantic"
      ]
    },
    {
      "cell_type": "code",
      "execution_count": 2,
      "metadata": {
        "colab": {
          "base_uri": "https://localhost:8080/",
          "height": 350
        },
        "id": "ycTC4Sb9vYg8",
        "outputId": "25388e7f-23d0-4505-a035-c0807397f0a2"
      },
      "outputs": [],
      "source": [
        "from dotenv import load_dotenv\n",
        "load_dotenv()\n",
        "import os"
      ]
    },
    {
      "cell_type": "markdown",
      "metadata": {
        "id": "_qsDG8NVvYg8"
      },
      "source": [
        "### llm endpoints (to edit)"
      ]
    },
    {
      "cell_type": "code",
      "execution_count": null,
      "metadata": {
        "id": "H4IQaOfDvYg9"
      },
      "outputs": [],
      "source": []
    },
    {
      "cell_type": "code",
      "execution_count": null,
      "metadata": {
        "id": "S4PibKiWvYg-"
      },
      "outputs": [],
      "source": [
        "import boto3\n",
        "from langchain_aws import ChatBedrock\n",
        "from botocore.config import Config\n",
        "import urllib3\n",
        "from langchain.prompts import PromptTemplate\n",
        "from langchain_core.output_parsers import StrOutputParser\n",
        "\n",
        "urllib3.disable_warnings(urllib3.exceptions.InsecureRequestWarning)\n",
        "\n",
        "bedrock_client = boto3.client(\n",
        "        service_name='bedrock-runtime',\n",
        "        region_name='eu-west-1',\n",
        "        aws_access_key_id=os.getenv('AWS_ACCESS_KEY_ID'),\n",
        "        aws_secret_access_key=os.getenv('AWS_SECRET_ACCESS_KEY'),\n",
        "        verify=False,  # Disable SSL verification\n",
        "        config=Config(\n",
        "            proxies={'https': None}\n",
        "        )\n",
        "    )\n",
        "\n",
        "llm = ChatBedrock(\n",
        "        model_id=\"anthropic.claude-3-haiku-20240307-v1:0\",\n",
        "        client=bedrock_client,\n",
        "        model_kwargs={\n",
        "            \"temperature\": 0,\n",
        "            \"max_tokens\": 2000,\n",
        "        }\n",
        "    )\n"
      ]
    },
    {
      "cell_type": "code",
      "execution_count": 28,
      "metadata": {},
      "outputs": [],
      "source": [
        "import fitz  # PyMuPDF\n",
        "import docx\n",
        "\n",
        "def read_pdf(file_path):\n",
        "    doc = fitz.open(file_path)\n",
        "    text = \"\\n\".join([page.get_text(\"text\") for page in doc])\n",
        "    return text\n",
        "\n",
        "def read_docx(file_path):\n",
        "    doc = docx.Document(file_path)\n",
        "    text = \"\\n\".join([p.text for p in doc.paragraphs])\n",
        "    return text\n",
        "\n",
        "def read_txt(file_path):\n",
        "    with open(file_path, \"r\") as f:\n",
        "        text = f.read()\n",
        "    return text\n",
        "\n"
      ]
    },
    {
      "cell_type": "code",
      "execution_count": 21,
      "metadata": {
        "id": "SGpZy-BWvYhA"
      },
      "outputs": [],
      "source": [
        "def generate(text):\n",
        "\n",
        "    prompt_template = PromptTemplate(\n",
        "        input_variables=[\"protagonist\", \"setting\"],\n",
        "        template=\"\"\"\n",
        "            Riassumi il seguente testo:\n",
        "            {text}\n",
        "            \n",
        "            REGOLE\n",
        "            - scrivi una breve intro per spiegare il contesto\n",
        "            - riassumi i punti principali in una bullet list\n",
        "            - trai le tue conclusioni sull'argomento\n",
        "        \"\"\"\n",
        "    )\n",
        "\n",
        "    chain = prompt_template | llm | StrOutputParser()\n",
        "\n",
        "    response = chain.invoke({\"text\": text})\n",
        "    return response\n"
      ]
    },
    {
      "cell_type": "code",
      "execution_count": 29,
      "metadata": {
        "id": "X-oF-QT1vYhB"
      },
      "outputs": [],
      "source": [
        "file_path = \"RomeCall_Paper_web.pdf\"  # Se è nella stessa cartella del notebook\n",
        "\n",
        "text = read_pdf(file_path)\n",
        "\n",
        "response = generate(text)"
      ]
    },
    {
      "cell_type": "code",
      "execution_count": 31,
      "metadata": {
        "id": "oGxg_16ivYhB",
        "outputId": "09af6af5-77d2-49f2-b87e-18f106e2d98f"
      },
      "outputs": [
        {
          "data": {
            "text/markdown": [
              "### Riassunto:\n",
              "\n",
              "Introduzione\n",
              "Il testo presenta la \"Rome Call for AI Ethics\", un documento firmato nel 2020 per promuovere un approccio etico all'intelligenza artificiale. L'obiettivo è di creare un futuro in cui l'innovazione digitale e il progresso tecnologico mettano l'essere umano al centro.\n",
              "\n",
              "Punti principali:\n",
              "- L'IA offre grandi potenzialità per migliorare il benessere sociale e personale, ma deve essere sviluppata nel rispetto della dignità umana e senza avere come unico scopo il profitto.\n",
              "- I firmatari si impegnano a promuovere uno sviluppo dell'IA al servizio dell'intera umanità, che non discrimini nessuno e che sia attento all'ambiente.\n",
              "- Vengono definiti 6 principi etici fondamentali per l'IA: trasparenza, inclusione, responsabilità, imparzialità, affidabilità, sicurezza e privacy.\n",
              "- Viene sottolineata l'importanza dell'istruzione e della formazione per sensibilizzare sulle opportunità e sui rischi dell'IA.\n",
              "- Sono necessarie nuove forme di regolamentazione per promuovere la trasparenza e il rispetto dei principi etici, soprattutto per le tecnologie ad alto rischio di impatto sui diritti umani.\n",
              "\n",
              "Conclusioni\n",
              "La \"Rome Call for AI Ethics\" rappresenta un importante passo avanti nella definizione di un quadro etico per lo sviluppo dell'intelligenza artificiale, con l'obiettivo di garantire che il progresso tecnologico sia al servizio dell'umanità e del pianeta. L'impegno congiunto di organizzazioni internazionali, governi, istituzioni e aziende tecnologiche è fondamentale per realizzare questa visione."
            ],
            "text/plain": [
              "<IPython.core.display.Markdown object>"
            ]
          },
          "metadata": {},
          "output_type": "display_data"
        }
      ],
      "source": [
        "from IPython.display import display, Markdown\n",
        "display(Markdown(f\"### Riassunto:\\n\\n{response}\"))\n",
        "    "
      ]
    },
    {
      "cell_type": "code",
      "execution_count": 41,
      "metadata": {},
      "outputs": [
        {
          "data": {
            "text/markdown": [
              "### Riassunto:\n",
              "\n",
              "Introduzione:\n",
              "Il report annuale Deloitte Football Money League analizza le performance finanziarie dei principali club di calcio a livello globale, evidenziando una continua crescita del settore.\n",
              "\n",
              "Punti principali:\n",
              "- I primi 20 club per fatturato hanno registrato ricavi complessivi pari a 11,2 miliardi di euro, segnando un incremento del +6% rispetto alla stagione precedente.\n",
              "- Il Real Madrid è diventato la prima squadra nella storia a superare 1 miliardo di euro di entrate in una singola stagione.\n",
              "- I ricavi commerciali hanno raggiunto 4,9 miliardi di euro, confermandosi la principale fonte di entrate.\n",
              "- I ricavi da matchday sono cresciuti del +11%, toccando per la prima volta quota 2 miliardi di euro.\n",
              "- Il successo sul campo è un fattore determinante per la crescita economica dei club.\n",
              "- Il calcio femminile ha registrato una forte espansione, superando 100 milioni di euro complessivi di entrate.\n",
              "\n",
              "Conclusioni:\n",
              "Il report evidenzia la continua crescita del settore calcistico a livello globale, trainata principalmente dai ricavi commerciali e dai proventi da matchday. Il successo sportivo rimane un fattore chiave per la performance economica dei club, mentre il calcio femminile sta guadagnando sempre più rilevanza nel panorama finanziario del calcio."
            ],
            "text/plain": [
              "<IPython.core.display.Markdown object>"
            ]
          },
          "metadata": {},
          "output_type": "display_data"
        }
      ],
      "source": [
        "file_path = \"docs/football_league.docx\"\n",
        "\n",
        "text = read_docx(file_path)\n",
        "\n",
        "summary = generate(text)\n",
        "\n",
        "display(Markdown(f\"### Riassunto:\\n\\n{response}\"))"
      ]
    },
    {
      "cell_type": "code",
      "execution_count": 50,
      "metadata": {},
      "outputs": [
        {
          "ename": "TypeError",
          "evalue": "'ModelMetaclass' object is not iterable",
          "output_type": "error",
          "traceback": [
            "\u001b[0;31m---------------------------------------------------------------------------\u001b[0m",
            "\u001b[0;31mTypeError\u001b[0m                                 Traceback (most recent call last)",
            "Cell \u001b[0;32mIn[50], line 8\u001b[0m\n\u001b[1;32m      5\u001b[0m     indicator: \u001b[38;5;28mstr\u001b[39m\n\u001b[1;32m      6\u001b[0m     value: \u001b[38;5;28mstr\u001b[39m\n\u001b[0;32m----> 8\u001b[0m parser \u001b[38;5;241m=\u001b[39m PydanticOutputParser(pydantic_object\u001b[38;5;241m=\u001b[39m\u001b[38;5;28;43mlist\u001b[39;49m\u001b[43m(\u001b[49m\u001b[43mIndicatorData\u001b[49m\u001b[43m)\u001b[49m)\n\u001b[1;32m     10\u001b[0m \u001b[38;5;28;01mdef\u001b[39;00m \u001b[38;5;21mextract_summary_data\u001b[39m(text):\n\u001b[1;32m     11\u001b[0m     prompt_template \u001b[38;5;241m=\u001b[39m PromptTemplate(\n\u001b[1;32m     12\u001b[0m         input_variables\u001b[38;5;241m=\u001b[39m[\u001b[38;5;124m\"\u001b[39m\u001b[38;5;124mtext\u001b[39m\u001b[38;5;124m\"\u001b[39m],\n\u001b[1;32m     13\u001b[0m         template\u001b[38;5;241m=\u001b[39m\u001b[38;5;124m\"\"\"\u001b[39m\n\u001b[0;32m   (...)\u001b[0m\n\u001b[1;32m     20\u001b[0m         partial_variables\u001b[38;5;241m=\u001b[39m{\u001b[38;5;124m\"\u001b[39m\u001b[38;5;124mformat_instructions\u001b[39m\u001b[38;5;124m\"\u001b[39m: parser\u001b[38;5;241m.\u001b[39mget_format_instructions()},\n\u001b[1;32m     21\u001b[0m     )\n",
            "\u001b[0;31mTypeError\u001b[0m: 'ModelMetaclass' object is not iterable"
          ]
        }
      ],
      "source": [
        "from pydantic import BaseModel\n",
        "from langchain.output_parsers import PydanticOutputParser\n",
        "\n",
        "class IndicatorData(BaseModel):\n",
        "    indicator: str\n",
        "    value: str\n",
        "\n",
        "class IndicatorDataList(BaseModel):\n",
        "    data: list[IndicatorData]\n",
        "\n",
        "\n",
        "parser = PydanticOutputParser(pydantic_object=IndicatorDataList)\n",
        "\n",
        "def extract_summary_data(text):\n",
        "    prompt_template = PromptTemplate(\n",
        "        input_variables=[\"text\"],\n",
        "        template=\"\"\"\n",
        "            Estrai i dati chiave dal seguente testo .\n",
        "            {text}\n",
        "            \n",
        "            ISTRUZIONI\n",
        "            {format_instructions}\n",
        "        \"\"\",\n",
        "        partial_variables={\"format_instructions\": parser.get_format_instructions()},\n",
        "    )\n",
        "\n",
        "    chain = prompt_template | llm | parser\n",
        "    \n",
        "    response = chain.invoke({\"text\": text})\n",
        "    \n",
        "    # try:\n",
        "    #     data_dict = response  # JsonOutputParser dovrebbe già restituire un dizionario\n",
        "    #     data = [IndicatorData(indicator=k, value=v) for k, v in data_dict.items()]\n",
        "    # except Exception:\n",
        "    #     data = [IndicatorData(indicator=\"errore\", value=\"Impossibile estrarre dati strutturati\")]\n",
        "    \n",
        "    return response\n",
        "    \n",
        "summary_data = extract_summary_data(summary)\n",
        "\n",
        "import json\n",
        "\n",
        "display(Markdown(f\"### Riassunto:\\n\\n{summary}\"))\n",
        "\n",
        "display(summary_data)\n",
        "\n",
        "    \n"
      ]
    }
  ],
  "metadata": {
    "colab": {
      "provenance": []
    },
    "kernelspec": {
      "display_name": "Python 3",
      "language": "python",
      "name": "python3"
    },
    "language_info": {
      "codemirror_mode": {
        "name": "ipython",
        "version": 3
      },
      "file_extension": ".py",
      "mimetype": "text/x-python",
      "name": "python",
      "nbconvert_exporter": "python",
      "pygments_lexer": "ipython3",
      "version": "3.10.12"
    }
  },
  "nbformat": 4,
  "nbformat_minor": 0
}
