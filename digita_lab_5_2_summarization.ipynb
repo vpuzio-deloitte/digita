{
  "cells": [
    {
      "cell_type": "markdown",
      "metadata": {
        "id": "71doM1OUvYg6"
      },
      "source": [
        "## Init e dependencies"
      ]
    },
    {
      "cell_type": "code",
      "execution_count": 26,
      "metadata": {
        "colab": {
          "base_uri": "https://localhost:8080/"
        },
        "id": "1bA4gJX0vYg7",
        "outputId": "5bc986c2-0f52-4105-9674-2e84211cba93",
        "collapsed": true
      },
      "outputs": [
        {
          "output_type": "stream",
          "name": "stdout",
          "text": [
            "Requirement already satisfied: langchain==0.2.7 in /usr/local/lib/python3.11/dist-packages (0.2.7)\n",
            "Requirement already satisfied: langchain_aws in /usr/local/lib/python3.11/dist-packages (0.1.18)\n",
            "Requirement already satisfied: langchain-community in /usr/local/lib/python3.11/dist-packages (0.2.7)\n",
            "Requirement already satisfied: langchain_core in /usr/local/lib/python3.11/dist-packages (0.2.43)\n",
            "Requirement already satisfied: boto3 in /usr/local/lib/python3.11/dist-packages (1.34.162)\n",
            "Requirement already satisfied: botocore in /usr/local/lib/python3.11/dist-packages (1.34.162)\n",
            "Requirement already satisfied: PyYAML>=5.3 in /usr/local/lib/python3.11/dist-packages (from langchain==0.2.7) (6.0.2)\n",
            "Requirement already satisfied: SQLAlchemy<3,>=1.4 in /usr/local/lib/python3.11/dist-packages (from langchain==0.2.7) (2.0.37)\n",
            "Requirement already satisfied: aiohttp<4.0.0,>=3.8.3 in /usr/local/lib/python3.11/dist-packages (from langchain==0.2.7) (3.11.11)\n",
            "Requirement already satisfied: langchain-text-splitters<0.3.0,>=0.2.0 in /usr/local/lib/python3.11/dist-packages (from langchain==0.2.7) (0.2.4)\n",
            "Requirement already satisfied: langsmith<0.2.0,>=0.1.17 in /usr/local/lib/python3.11/dist-packages (from langchain==0.2.7) (0.1.147)\n",
            "Requirement already satisfied: numpy<2,>=1 in /usr/local/lib/python3.11/dist-packages (from langchain==0.2.7) (1.26.4)\n",
            "Requirement already satisfied: pydantic<3,>=1 in /usr/local/lib/python3.11/dist-packages (from langchain==0.2.7) (2.10.6)\n",
            "Requirement already satisfied: requests<3,>=2 in /usr/local/lib/python3.11/dist-packages (from langchain==0.2.7) (2.32.3)\n",
            "Requirement already satisfied: tenacity!=8.4.0,<9.0.0,>=8.1.0 in /usr/local/lib/python3.11/dist-packages (from langchain==0.2.7) (8.5.0)\n",
            "Requirement already satisfied: dataclasses-json<0.7,>=0.5.7 in /usr/local/lib/python3.11/dist-packages (from langchain-community) (0.6.7)\n",
            "Requirement already satisfied: jsonpatch<2.0,>=1.33 in /usr/local/lib/python3.11/dist-packages (from langchain_core) (1.33)\n",
            "Requirement already satisfied: packaging<25,>=23.2 in /usr/local/lib/python3.11/dist-packages (from langchain_core) (24.2)\n",
            "Requirement already satisfied: typing-extensions>=4.7 in /usr/local/lib/python3.11/dist-packages (from langchain_core) (4.12.2)\n",
            "Requirement already satisfied: jmespath<2.0.0,>=0.7.1 in /usr/local/lib/python3.11/dist-packages (from boto3) (1.0.1)\n",
            "Requirement already satisfied: s3transfer<0.11.0,>=0.10.0 in /usr/local/lib/python3.11/dist-packages (from boto3) (0.10.4)\n",
            "Requirement already satisfied: python-dateutil<3.0.0,>=2.1 in /usr/local/lib/python3.11/dist-packages (from botocore) (2.8.2)\n",
            "Requirement already satisfied: urllib3!=2.2.0,<3,>=1.25.4 in /usr/local/lib/python3.11/dist-packages (from botocore) (2.3.0)\n",
            "Requirement already satisfied: aiohappyeyeballs>=2.3.0 in /usr/local/lib/python3.11/dist-packages (from aiohttp<4.0.0,>=3.8.3->langchain==0.2.7) (2.4.4)\n",
            "Requirement already satisfied: aiosignal>=1.1.2 in /usr/local/lib/python3.11/dist-packages (from aiohttp<4.0.0,>=3.8.3->langchain==0.2.7) (1.3.2)\n",
            "Requirement already satisfied: attrs>=17.3.0 in /usr/local/lib/python3.11/dist-packages (from aiohttp<4.0.0,>=3.8.3->langchain==0.2.7) (25.1.0)\n",
            "Requirement already satisfied: frozenlist>=1.1.1 in /usr/local/lib/python3.11/dist-packages (from aiohttp<4.0.0,>=3.8.3->langchain==0.2.7) (1.5.0)\n",
            "Requirement already satisfied: multidict<7.0,>=4.5 in /usr/local/lib/python3.11/dist-packages (from aiohttp<4.0.0,>=3.8.3->langchain==0.2.7) (6.1.0)\n",
            "Requirement already satisfied: propcache>=0.2.0 in /usr/local/lib/python3.11/dist-packages (from aiohttp<4.0.0,>=3.8.3->langchain==0.2.7) (0.2.1)\n",
            "Requirement already satisfied: yarl<2.0,>=1.17.0 in /usr/local/lib/python3.11/dist-packages (from aiohttp<4.0.0,>=3.8.3->langchain==0.2.7) (1.18.3)\n",
            "Requirement already satisfied: marshmallow<4.0.0,>=3.18.0 in /usr/local/lib/python3.11/dist-packages (from dataclasses-json<0.7,>=0.5.7->langchain-community) (3.26.1)\n",
            "Requirement already satisfied: typing-inspect<1,>=0.4.0 in /usr/local/lib/python3.11/dist-packages (from dataclasses-json<0.7,>=0.5.7->langchain-community) (0.9.0)\n",
            "Requirement already satisfied: jsonpointer>=1.9 in /usr/local/lib/python3.11/dist-packages (from jsonpatch<2.0,>=1.33->langchain_core) (3.0.0)\n",
            "Requirement already satisfied: httpx<1,>=0.23.0 in /usr/local/lib/python3.11/dist-packages (from langsmith<0.2.0,>=0.1.17->langchain==0.2.7) (0.28.1)\n",
            "Requirement already satisfied: orjson<4.0.0,>=3.9.14 in /usr/local/lib/python3.11/dist-packages (from langsmith<0.2.0,>=0.1.17->langchain==0.2.7) (3.10.15)\n",
            "Requirement already satisfied: requests-toolbelt<2.0.0,>=1.0.0 in /usr/local/lib/python3.11/dist-packages (from langsmith<0.2.0,>=0.1.17->langchain==0.2.7) (1.0.0)\n",
            "Requirement already satisfied: annotated-types>=0.6.0 in /usr/local/lib/python3.11/dist-packages (from pydantic<3,>=1->langchain==0.2.7) (0.7.0)\n",
            "Requirement already satisfied: pydantic-core==2.27.2 in /usr/local/lib/python3.11/dist-packages (from pydantic<3,>=1->langchain==0.2.7) (2.27.2)\n",
            "Requirement already satisfied: six>=1.5 in /usr/local/lib/python3.11/dist-packages (from python-dateutil<3.0.0,>=2.1->botocore) (1.17.0)\n",
            "Requirement already satisfied: charset-normalizer<4,>=2 in /usr/local/lib/python3.11/dist-packages (from requests<3,>=2->langchain==0.2.7) (3.4.1)\n",
            "Requirement already satisfied: idna<4,>=2.5 in /usr/local/lib/python3.11/dist-packages (from requests<3,>=2->langchain==0.2.7) (3.10)\n",
            "Requirement already satisfied: certifi>=2017.4.17 in /usr/local/lib/python3.11/dist-packages (from requests<3,>=2->langchain==0.2.7) (2025.1.31)\n",
            "Requirement already satisfied: greenlet!=0.4.17 in /usr/local/lib/python3.11/dist-packages (from SQLAlchemy<3,>=1.4->langchain==0.2.7) (3.1.1)\n",
            "Requirement already satisfied: anyio in /usr/local/lib/python3.11/dist-packages (from httpx<1,>=0.23.0->langsmith<0.2.0,>=0.1.17->langchain==0.2.7) (3.7.1)\n",
            "Requirement already satisfied: httpcore==1.* in /usr/local/lib/python3.11/dist-packages (from httpx<1,>=0.23.0->langsmith<0.2.0,>=0.1.17->langchain==0.2.7) (1.0.7)\n",
            "Requirement already satisfied: h11<0.15,>=0.13 in /usr/local/lib/python3.11/dist-packages (from httpcore==1.*->httpx<1,>=0.23.0->langsmith<0.2.0,>=0.1.17->langchain==0.2.7) (0.14.0)\n",
            "Requirement already satisfied: mypy-extensions>=0.3.0 in /usr/local/lib/python3.11/dist-packages (from typing-inspect<1,>=0.4.0->dataclasses-json<0.7,>=0.5.7->langchain-community) (1.0.0)\n",
            "Requirement already satisfied: sniffio>=1.1 in /usr/local/lib/python3.11/dist-packages (from anyio->httpx<1,>=0.23.0->langsmith<0.2.0,>=0.1.17->langchain==0.2.7) (1.3.1)\n",
            "Requirement already satisfied: PyMuPDF in /usr/local/lib/python3.11/dist-packages (1.25.3)\n",
            "Requirement already satisfied: python-docx in /usr/local/lib/python3.11/dist-packages (1.1.2)\n",
            "Requirement already satisfied: pydantic in /usr/local/lib/python3.11/dist-packages (2.10.6)\n",
            "Requirement already satisfied: lxml>=3.1.0 in /usr/local/lib/python3.11/dist-packages (from python-docx) (5.3.0)\n",
            "Requirement already satisfied: typing-extensions>=4.9.0 in /usr/local/lib/python3.11/dist-packages (from python-docx) (4.12.2)\n",
            "Requirement already satisfied: annotated-types>=0.6.0 in /usr/local/lib/python3.11/dist-packages (from pydantic) (0.7.0)\n",
            "Requirement already satisfied: pydantic-core==2.27.2 in /usr/local/lib/python3.11/dist-packages (from pydantic) (2.27.2)\n"
          ]
        }
      ],
      "source": [
        "! pip install langchain==0.2.7 langchain_aws langchain-community langchain_core boto3 botocore\n",
        "! pip install PyMuPDF python-docx pydantic"
      ]
    },
    {
      "cell_type": "markdown",
      "metadata": {
        "id": "_qsDG8NVvYg8"
      },
      "source": [
        "### Init LLM endpoints\n",
        "\n",
        "\n"
      ]
    },
    {
      "cell_type": "code",
      "execution_count": 33,
      "metadata": {
        "id": "S4PibKiWvYg-"
      },
      "outputs": [],
      "source": [
        "import boto3\n",
        "from langchain_aws import ChatBedrock\n",
        "from botocore.config import Config\n",
        "import urllib3\n",
        "from langchain.prompts import PromptTemplate\n",
        "from langchain_core.output_parsers import StrOutputParser\n",
        "import os\n",
        "from google.colab import userdata\n",
        "urllib3.disable_warnings(urllib3.exceptions.InsecureRequestWarning)\n",
        "\n",
        "bedrock_client = boto3.client(\n",
        "        service_name='bedrock-runtime',\n",
        "        region_name='eu-west-1',\n",
        "        aws_access_key_id=userdata.get('AWS_ACCESS_KEY_ID'),\n",
        "        aws_secret_access_key=userdata.get('AWS_SECRET_ACCESS_KEY'),\n",
        "        verify=False,  # Disable SSL verification\n",
        "        config=Config(\n",
        "            proxies={'https': None}\n",
        "        )\n",
        "    )\n",
        "\n",
        "llm = ChatBedrock(\n",
        "        model_id=\"anthropic.claude-3-haiku-20240307-v1:0\",\n",
        "        client=bedrock_client,\n",
        "        model_kwargs={\n",
        "            \"temperature\": 0,\n",
        "            \"max_tokens\": 2000,\n",
        "        }\n",
        "    )\n"
      ]
    },
    {
      "cell_type": "markdown",
      "source": [
        "### Caricamento Files"
      ],
      "metadata": {
        "id": "MVZfAOGgx9Qg"
      }
    },
    {
      "cell_type": "code",
      "execution_count": 34,
      "metadata": {
        "id": "RHhNQc9njdpT"
      },
      "outputs": [],
      "source": [
        "import fitz  # PyMuPDF\n",
        "import docx\n",
        "\n",
        "from google.colab import files\n",
        "\n",
        "def upload_file():\n",
        "  uploaded = files.upload()\n",
        "  # Una volta eseguita questa cella, Colab ti chiederà di selezionare il file dal tuo PC.\n",
        "\n",
        "  # 2) Identifica il nome del file caricato\n",
        "  for file_name in uploaded.keys():\n",
        "      file_path = file_name\n",
        "\n",
        "  return file_path\n",
        "\n",
        "def read_pdf(file_path):\n",
        "    doc = fitz.open(file_path)\n",
        "    text = \"\\n\".join([page.get_text(\"text\") for page in doc])\n",
        "    return text\n",
        "\n",
        "def read_docx(file_path):\n",
        "    doc = docx.Document(file_path)\n",
        "    text = \"\\n\".join([p.text for p in doc.paragraphs])\n",
        "    return text\n",
        "\n",
        "def read_txt(file_path):\n",
        "    with open(file_path, \"r\") as f:\n",
        "        text = f.read()\n",
        "    return text\n",
        "\n",
        "def upload_and_read_pdf():\n",
        "    file_path = upload_file()\n",
        "\n",
        "    return read_pdf(file_path)\n",
        "\n",
        "def upload_and_read_docx():\n",
        "    file_path = upload_file()\n",
        "\n",
        "    return read_docx(file_path)\n",
        "\n",
        "def upload_and_read_txt():\n",
        "    file_path = upload_file()\n",
        "\n",
        "    return read_txt(file_path)"
      ]
    },
    {
      "cell_type": "code",
      "source": [
        "Summarization"
      ],
      "metadata": {
        "id": "SaPPgPKeyCG9"
      },
      "execution_count": null,
      "outputs": []
    },
    {
      "cell_type": "code",
      "execution_count": 37,
      "metadata": {
        "id": "SGpZy-BWvYhA"
      },
      "outputs": [],
      "source": [
        "def summarize(text):\n",
        "\n",
        "    prompt_template = PromptTemplate(\n",
        "        input_variables=[\"text\"],\n",
        "        template=\"\"\"\n",
        "            Riassumi il seguente testo:\n",
        "            {text}\n",
        "\n",
        "            REGOLE\n",
        "            - scrivi una breve intro per spiegare il contesto\n",
        "            - riassumi i punti principali in una bullet list\n",
        "            - trai le tue conclusioni sull'argomento\n",
        "        \"\"\"\n",
        "    )\n",
        "\n",
        "    chain = prompt_template | llm | StrOutputParser()\n",
        "\n",
        "    response = chain.invoke({\"text\": text})\n",
        "    return response\n"
      ]
    },
    {
      "cell_type": "markdown",
      "source": [
        "### Esempio - 1"
      ],
      "metadata": {
        "id": "LODui-10yIss"
      }
    },
    {
      "cell_type": "code",
      "execution_count": 36,
      "metadata": {
        "id": "X-oF-QT1vYhB",
        "colab": {
          "base_uri": "https://localhost:8080/",
          "height": 73
        },
        "outputId": "c80ab8b0-ddbe-4ada-dfb0-080832628aa1"
      },
      "outputs": [
        {
          "output_type": "display_data",
          "data": {
            "text/plain": [
              "<IPython.core.display.HTML object>"
            ],
            "text/html": [
              "\n",
              "     <input type=\"file\" id=\"files-baf724ed-5706-4579-ae5d-7c251964079c\" name=\"files[]\" multiple disabled\n",
              "        style=\"border:none\" />\n",
              "     <output id=\"result-baf724ed-5706-4579-ae5d-7c251964079c\">\n",
              "      Upload widget is only available when the cell has been executed in the\n",
              "      current browser session. Please rerun this cell to enable.\n",
              "      </output>\n",
              "      <script>// Copyright 2017 Google LLC\n",
              "//\n",
              "// Licensed under the Apache License, Version 2.0 (the \"License\");\n",
              "// you may not use this file except in compliance with the License.\n",
              "// You may obtain a copy of the License at\n",
              "//\n",
              "//      http://www.apache.org/licenses/LICENSE-2.0\n",
              "//\n",
              "// Unless required by applicable law or agreed to in writing, software\n",
              "// distributed under the License is distributed on an \"AS IS\" BASIS,\n",
              "// WITHOUT WARRANTIES OR CONDITIONS OF ANY KIND, either express or implied.\n",
              "// See the License for the specific language governing permissions and\n",
              "// limitations under the License.\n",
              "\n",
              "/**\n",
              " * @fileoverview Helpers for google.colab Python module.\n",
              " */\n",
              "(function(scope) {\n",
              "function span(text, styleAttributes = {}) {\n",
              "  const element = document.createElement('span');\n",
              "  element.textContent = text;\n",
              "  for (const key of Object.keys(styleAttributes)) {\n",
              "    element.style[key] = styleAttributes[key];\n",
              "  }\n",
              "  return element;\n",
              "}\n",
              "\n",
              "// Max number of bytes which will be uploaded at a time.\n",
              "const MAX_PAYLOAD_SIZE = 100 * 1024;\n",
              "\n",
              "function _uploadFiles(inputId, outputId) {\n",
              "  const steps = uploadFilesStep(inputId, outputId);\n",
              "  const outputElement = document.getElementById(outputId);\n",
              "  // Cache steps on the outputElement to make it available for the next call\n",
              "  // to uploadFilesContinue from Python.\n",
              "  outputElement.steps = steps;\n",
              "\n",
              "  return _uploadFilesContinue(outputId);\n",
              "}\n",
              "\n",
              "// This is roughly an async generator (not supported in the browser yet),\n",
              "// where there are multiple asynchronous steps and the Python side is going\n",
              "// to poll for completion of each step.\n",
              "// This uses a Promise to block the python side on completion of each step,\n",
              "// then passes the result of the previous step as the input to the next step.\n",
              "function _uploadFilesContinue(outputId) {\n",
              "  const outputElement = document.getElementById(outputId);\n",
              "  const steps = outputElement.steps;\n",
              "\n",
              "  const next = steps.next(outputElement.lastPromiseValue);\n",
              "  return Promise.resolve(next.value.promise).then((value) => {\n",
              "    // Cache the last promise value to make it available to the next\n",
              "    // step of the generator.\n",
              "    outputElement.lastPromiseValue = value;\n",
              "    return next.value.response;\n",
              "  });\n",
              "}\n",
              "\n",
              "/**\n",
              " * Generator function which is called between each async step of the upload\n",
              " * process.\n",
              " * @param {string} inputId Element ID of the input file picker element.\n",
              " * @param {string} outputId Element ID of the output display.\n",
              " * @return {!Iterable<!Object>} Iterable of next steps.\n",
              " */\n",
              "function* uploadFilesStep(inputId, outputId) {\n",
              "  const inputElement = document.getElementById(inputId);\n",
              "  inputElement.disabled = false;\n",
              "\n",
              "  const outputElement = document.getElementById(outputId);\n",
              "  outputElement.innerHTML = '';\n",
              "\n",
              "  const pickedPromise = new Promise((resolve) => {\n",
              "    inputElement.addEventListener('change', (e) => {\n",
              "      resolve(e.target.files);\n",
              "    });\n",
              "  });\n",
              "\n",
              "  const cancel = document.createElement('button');\n",
              "  inputElement.parentElement.appendChild(cancel);\n",
              "  cancel.textContent = 'Cancel upload';\n",
              "  const cancelPromise = new Promise((resolve) => {\n",
              "    cancel.onclick = () => {\n",
              "      resolve(null);\n",
              "    };\n",
              "  });\n",
              "\n",
              "  // Wait for the user to pick the files.\n",
              "  const files = yield {\n",
              "    promise: Promise.race([pickedPromise, cancelPromise]),\n",
              "    response: {\n",
              "      action: 'starting',\n",
              "    }\n",
              "  };\n",
              "\n",
              "  cancel.remove();\n",
              "\n",
              "  // Disable the input element since further picks are not allowed.\n",
              "  inputElement.disabled = true;\n",
              "\n",
              "  if (!files) {\n",
              "    return {\n",
              "      response: {\n",
              "        action: 'complete',\n",
              "      }\n",
              "    };\n",
              "  }\n",
              "\n",
              "  for (const file of files) {\n",
              "    const li = document.createElement('li');\n",
              "    li.append(span(file.name, {fontWeight: 'bold'}));\n",
              "    li.append(span(\n",
              "        `(${file.type || 'n/a'}) - ${file.size} bytes, ` +\n",
              "        `last modified: ${\n",
              "            file.lastModifiedDate ? file.lastModifiedDate.toLocaleDateString() :\n",
              "                                    'n/a'} - `));\n",
              "    const percent = span('0% done');\n",
              "    li.appendChild(percent);\n",
              "\n",
              "    outputElement.appendChild(li);\n",
              "\n",
              "    const fileDataPromise = new Promise((resolve) => {\n",
              "      const reader = new FileReader();\n",
              "      reader.onload = (e) => {\n",
              "        resolve(e.target.result);\n",
              "      };\n",
              "      reader.readAsArrayBuffer(file);\n",
              "    });\n",
              "    // Wait for the data to be ready.\n",
              "    let fileData = yield {\n",
              "      promise: fileDataPromise,\n",
              "      response: {\n",
              "        action: 'continue',\n",
              "      }\n",
              "    };\n",
              "\n",
              "    // Use a chunked sending to avoid message size limits. See b/62115660.\n",
              "    let position = 0;\n",
              "    do {\n",
              "      const length = Math.min(fileData.byteLength - position, MAX_PAYLOAD_SIZE);\n",
              "      const chunk = new Uint8Array(fileData, position, length);\n",
              "      position += length;\n",
              "\n",
              "      const base64 = btoa(String.fromCharCode.apply(null, chunk));\n",
              "      yield {\n",
              "        response: {\n",
              "          action: 'append',\n",
              "          file: file.name,\n",
              "          data: base64,\n",
              "        },\n",
              "      };\n",
              "\n",
              "      let percentDone = fileData.byteLength === 0 ?\n",
              "          100 :\n",
              "          Math.round((position / fileData.byteLength) * 100);\n",
              "      percent.textContent = `${percentDone}% done`;\n",
              "\n",
              "    } while (position < fileData.byteLength);\n",
              "  }\n",
              "\n",
              "  // All done.\n",
              "  yield {\n",
              "    response: {\n",
              "      action: 'complete',\n",
              "    }\n",
              "  };\n",
              "}\n",
              "\n",
              "scope.google = scope.google || {};\n",
              "scope.google.colab = scope.google.colab || {};\n",
              "scope.google.colab._files = {\n",
              "  _uploadFiles,\n",
              "  _uploadFilesContinue,\n",
              "};\n",
              "})(self);\n",
              "</script> "
            ]
          },
          "metadata": {}
        },
        {
          "output_type": "stream",
          "name": "stdout",
          "text": [
            "Saving RomeCall_Paper_web.pdf to RomeCall_Paper_web (3).pdf\n"
          ]
        }
      ],
      "source": [
        "\n",
        "text = upload_and_read_pdf()\n",
        "\n",
        "response = summarize(text)"
      ]
    },
    {
      "cell_type": "code",
      "execution_count": 38,
      "metadata": {
        "id": "oGxg_16ivYhB",
        "outputId": "1abe56f5-3d41-4325-8541-7b2a93190081",
        "colab": {
          "base_uri": "https://localhost:8080/",
          "height": 294
        }
      },
      "outputs": [
        {
          "output_type": "display_data",
          "data": {
            "text/plain": [
              "<IPython.core.display.Markdown object>"
            ],
            "text/markdown": "### Riassunto:\n\nIntroduzione\nIl testo presenta la \"Rome Call for AI Ethics\", un documento firmato nel 2020 per promuovere un approccio etico all'intelligenza artificiale. L'obiettivo è di creare un futuro in cui l'innovazione digitale e il progresso tecnologico mettano l'essere umano al centro.\n\nPunti principali:\n- L'IA offre grandi potenzialità per migliorare il benessere sociale e personale, ma deve essere sviluppata nel rispetto della dignità umana e senza avere come unico scopo il profitto.\n- I firmatari si impegnano a promuovere uno sviluppo dell'IA al servizio dell'intera umanità, che non discrimini nessuno e che sia attento all'ambiente.\n- Vengono definiti 6 principi etici fondamentali per l'IA: trasparenza, inclusione, responsabilità, imparzialità, affidabilità, sicurezza e privacy.\n- Viene sottolineata l'importanza dell'istruzione e della formazione per sensibilizzare sulle opportunità e sui rischi dell'IA.\n- Viene evidenziata la necessità di sviluppare nuove forme di regolamentazione per promuovere la trasparenza e il rispetto dei principi etici.\n\nConclusioni\nIl documento rappresenta un importante passo avanti nella definizione di un quadro etico per lo sviluppo dell'intelligenza artificiale, ponendo l'essere umano e l'ambiente al centro. L'impegno congiunto di organizzazioni internazionali, governi e aziende tecnologiche è fondamentale per realizzare questa visione e garantire che l'innovazione digitale serva il bene dell'umanità."
          },
          "metadata": {}
        }
      ],
      "source": [
        "from IPython.display import display, Markdown\n",
        "display(Markdown(f\"### Riassunto:\\n\\n{response}\"))\n"
      ]
    },
    {
      "cell_type": "markdown",
      "source": [
        "Esempio - 2"
      ],
      "metadata": {
        "id": "BpE0MItHyVsp"
      }
    },
    {
      "cell_type": "code",
      "execution_count": 40,
      "metadata": {
        "colab": {
          "base_uri": "https://localhost:8080/",
          "height": 534
        },
        "id": "I4DJ5X2AjdpV",
        "outputId": "5a220758-5940-4f4c-c534-56ddfaa1a142"
      },
      "outputs": [
        {
          "output_type": "display_data",
          "data": {
            "text/plain": [
              "<IPython.core.display.HTML object>"
            ],
            "text/html": [
              "\n",
              "     <input type=\"file\" id=\"files-1cdd16f1-4e73-49b6-93b0-d178d84cbbdd\" name=\"files[]\" multiple disabled\n",
              "        style=\"border:none\" />\n",
              "     <output id=\"result-1cdd16f1-4e73-49b6-93b0-d178d84cbbdd\">\n",
              "      Upload widget is only available when the cell has been executed in the\n",
              "      current browser session. Please rerun this cell to enable.\n",
              "      </output>\n",
              "      <script>// Copyright 2017 Google LLC\n",
              "//\n",
              "// Licensed under the Apache License, Version 2.0 (the \"License\");\n",
              "// you may not use this file except in compliance with the License.\n",
              "// You may obtain a copy of the License at\n",
              "//\n",
              "//      http://www.apache.org/licenses/LICENSE-2.0\n",
              "//\n",
              "// Unless required by applicable law or agreed to in writing, software\n",
              "// distributed under the License is distributed on an \"AS IS\" BASIS,\n",
              "// WITHOUT WARRANTIES OR CONDITIONS OF ANY KIND, either express or implied.\n",
              "// See the License for the specific language governing permissions and\n",
              "// limitations under the License.\n",
              "\n",
              "/**\n",
              " * @fileoverview Helpers for google.colab Python module.\n",
              " */\n",
              "(function(scope) {\n",
              "function span(text, styleAttributes = {}) {\n",
              "  const element = document.createElement('span');\n",
              "  element.textContent = text;\n",
              "  for (const key of Object.keys(styleAttributes)) {\n",
              "    element.style[key] = styleAttributes[key];\n",
              "  }\n",
              "  return element;\n",
              "}\n",
              "\n",
              "// Max number of bytes which will be uploaded at a time.\n",
              "const MAX_PAYLOAD_SIZE = 100 * 1024;\n",
              "\n",
              "function _uploadFiles(inputId, outputId) {\n",
              "  const steps = uploadFilesStep(inputId, outputId);\n",
              "  const outputElement = document.getElementById(outputId);\n",
              "  // Cache steps on the outputElement to make it available for the next call\n",
              "  // to uploadFilesContinue from Python.\n",
              "  outputElement.steps = steps;\n",
              "\n",
              "  return _uploadFilesContinue(outputId);\n",
              "}\n",
              "\n",
              "// This is roughly an async generator (not supported in the browser yet),\n",
              "// where there are multiple asynchronous steps and the Python side is going\n",
              "// to poll for completion of each step.\n",
              "// This uses a Promise to block the python side on completion of each step,\n",
              "// then passes the result of the previous step as the input to the next step.\n",
              "function _uploadFilesContinue(outputId) {\n",
              "  const outputElement = document.getElementById(outputId);\n",
              "  const steps = outputElement.steps;\n",
              "\n",
              "  const next = steps.next(outputElement.lastPromiseValue);\n",
              "  return Promise.resolve(next.value.promise).then((value) => {\n",
              "    // Cache the last promise value to make it available to the next\n",
              "    // step of the generator.\n",
              "    outputElement.lastPromiseValue = value;\n",
              "    return next.value.response;\n",
              "  });\n",
              "}\n",
              "\n",
              "/**\n",
              " * Generator function which is called between each async step of the upload\n",
              " * process.\n",
              " * @param {string} inputId Element ID of the input file picker element.\n",
              " * @param {string} outputId Element ID of the output display.\n",
              " * @return {!Iterable<!Object>} Iterable of next steps.\n",
              " */\n",
              "function* uploadFilesStep(inputId, outputId) {\n",
              "  const inputElement = document.getElementById(inputId);\n",
              "  inputElement.disabled = false;\n",
              "\n",
              "  const outputElement = document.getElementById(outputId);\n",
              "  outputElement.innerHTML = '';\n",
              "\n",
              "  const pickedPromise = new Promise((resolve) => {\n",
              "    inputElement.addEventListener('change', (e) => {\n",
              "      resolve(e.target.files);\n",
              "    });\n",
              "  });\n",
              "\n",
              "  const cancel = document.createElement('button');\n",
              "  inputElement.parentElement.appendChild(cancel);\n",
              "  cancel.textContent = 'Cancel upload';\n",
              "  const cancelPromise = new Promise((resolve) => {\n",
              "    cancel.onclick = () => {\n",
              "      resolve(null);\n",
              "    };\n",
              "  });\n",
              "\n",
              "  // Wait for the user to pick the files.\n",
              "  const files = yield {\n",
              "    promise: Promise.race([pickedPromise, cancelPromise]),\n",
              "    response: {\n",
              "      action: 'starting',\n",
              "    }\n",
              "  };\n",
              "\n",
              "  cancel.remove();\n",
              "\n",
              "  // Disable the input element since further picks are not allowed.\n",
              "  inputElement.disabled = true;\n",
              "\n",
              "  if (!files) {\n",
              "    return {\n",
              "      response: {\n",
              "        action: 'complete',\n",
              "      }\n",
              "    };\n",
              "  }\n",
              "\n",
              "  for (const file of files) {\n",
              "    const li = document.createElement('li');\n",
              "    li.append(span(file.name, {fontWeight: 'bold'}));\n",
              "    li.append(span(\n",
              "        `(${file.type || 'n/a'}) - ${file.size} bytes, ` +\n",
              "        `last modified: ${\n",
              "            file.lastModifiedDate ? file.lastModifiedDate.toLocaleDateString() :\n",
              "                                    'n/a'} - `));\n",
              "    const percent = span('0% done');\n",
              "    li.appendChild(percent);\n",
              "\n",
              "    outputElement.appendChild(li);\n",
              "\n",
              "    const fileDataPromise = new Promise((resolve) => {\n",
              "      const reader = new FileReader();\n",
              "      reader.onload = (e) => {\n",
              "        resolve(e.target.result);\n",
              "      };\n",
              "      reader.readAsArrayBuffer(file);\n",
              "    });\n",
              "    // Wait for the data to be ready.\n",
              "    let fileData = yield {\n",
              "      promise: fileDataPromise,\n",
              "      response: {\n",
              "        action: 'continue',\n",
              "      }\n",
              "    };\n",
              "\n",
              "    // Use a chunked sending to avoid message size limits. See b/62115660.\n",
              "    let position = 0;\n",
              "    do {\n",
              "      const length = Math.min(fileData.byteLength - position, MAX_PAYLOAD_SIZE);\n",
              "      const chunk = new Uint8Array(fileData, position, length);\n",
              "      position += length;\n",
              "\n",
              "      const base64 = btoa(String.fromCharCode.apply(null, chunk));\n",
              "      yield {\n",
              "        response: {\n",
              "          action: 'append',\n",
              "          file: file.name,\n",
              "          data: base64,\n",
              "        },\n",
              "      };\n",
              "\n",
              "      let percentDone = fileData.byteLength === 0 ?\n",
              "          100 :\n",
              "          Math.round((position / fileData.byteLength) * 100);\n",
              "      percent.textContent = `${percentDone}% done`;\n",
              "\n",
              "    } while (position < fileData.byteLength);\n",
              "  }\n",
              "\n",
              "  // All done.\n",
              "  yield {\n",
              "    response: {\n",
              "      action: 'complete',\n",
              "    }\n",
              "  };\n",
              "}\n",
              "\n",
              "scope.google = scope.google || {};\n",
              "scope.google.colab = scope.google.colab || {};\n",
              "scope.google.colab._files = {\n",
              "  _uploadFiles,\n",
              "  _uploadFilesContinue,\n",
              "};\n",
              "})(self);\n",
              "</script> "
            ]
          },
          "metadata": {}
        },
        {
          "output_type": "stream",
          "name": "stdout",
          "text": [
            "Saving commedia.txt to commedia (2).txt\n"
          ]
        },
        {
          "output_type": "error",
          "ename": "ValueError",
          "evalue": "Error raised by bedrock service: An error occurred (ValidationException) when calling the InvokeModel operation: Input is too long for requested model.",
          "traceback": [
            "\u001b[0;31m---------------------------------------------------------------------------\u001b[0m",
            "\u001b[0;31mValidationException\u001b[0m                       Traceback (most recent call last)",
            "\u001b[0;32m/usr/local/lib/python3.11/dist-packages/langchain_aws/llms/bedrock.py\u001b[0m in \u001b[0;36m_prepare_input_and_invoke\u001b[0;34m(self, prompt, system, messages, stop, run_manager, **kwargs)\u001b[0m\n\u001b[1;32m    725\u001b[0m         \u001b[0;32mtry\u001b[0m\u001b[0;34m:\u001b[0m\u001b[0;34m\u001b[0m\u001b[0;34m\u001b[0m\u001b[0m\n\u001b[0;32m--> 726\u001b[0;31m             \u001b[0mresponse\u001b[0m \u001b[0;34m=\u001b[0m \u001b[0mself\u001b[0m\u001b[0;34m.\u001b[0m\u001b[0mclient\u001b[0m\u001b[0;34m.\u001b[0m\u001b[0minvoke_model\u001b[0m\u001b[0;34m(\u001b[0m\u001b[0;34m**\u001b[0m\u001b[0mrequest_options\u001b[0m\u001b[0;34m)\u001b[0m\u001b[0;34m\u001b[0m\u001b[0;34m\u001b[0m\u001b[0m\n\u001b[0m\u001b[1;32m    727\u001b[0m \u001b[0;34m\u001b[0m\u001b[0m\n",
            "\u001b[0;32m/usr/local/lib/python3.11/dist-packages/botocore/client.py\u001b[0m in \u001b[0;36m_api_call\u001b[0;34m(self, *args, **kwargs)\u001b[0m\n\u001b[1;32m    564\u001b[0m             \u001b[0;31m# The \"self\" in this scope is referring to the BaseClient.\u001b[0m\u001b[0;34m\u001b[0m\u001b[0;34m\u001b[0m\u001b[0m\n\u001b[0;32m--> 565\u001b[0;31m             \u001b[0;32mreturn\u001b[0m \u001b[0mself\u001b[0m\u001b[0;34m.\u001b[0m\u001b[0m_make_api_call\u001b[0m\u001b[0;34m(\u001b[0m\u001b[0moperation_name\u001b[0m\u001b[0;34m,\u001b[0m \u001b[0mkwargs\u001b[0m\u001b[0;34m)\u001b[0m\u001b[0;34m\u001b[0m\u001b[0;34m\u001b[0m\u001b[0m\n\u001b[0m\u001b[1;32m    566\u001b[0m \u001b[0;34m\u001b[0m\u001b[0m\n",
            "\u001b[0;32m/usr/local/lib/python3.11/dist-packages/botocore/client.py\u001b[0m in \u001b[0;36m_make_api_call\u001b[0;34m(self, operation_name, api_params)\u001b[0m\n\u001b[1;32m   1016\u001b[0m             \u001b[0merror_class\u001b[0m \u001b[0;34m=\u001b[0m \u001b[0mself\u001b[0m\u001b[0;34m.\u001b[0m\u001b[0mexceptions\u001b[0m\u001b[0;34m.\u001b[0m\u001b[0mfrom_code\u001b[0m\u001b[0;34m(\u001b[0m\u001b[0merror_code\u001b[0m\u001b[0;34m)\u001b[0m\u001b[0;34m\u001b[0m\u001b[0;34m\u001b[0m\u001b[0m\n\u001b[0;32m-> 1017\u001b[0;31m             \u001b[0;32mraise\u001b[0m \u001b[0merror_class\u001b[0m\u001b[0;34m(\u001b[0m\u001b[0mparsed_response\u001b[0m\u001b[0;34m,\u001b[0m \u001b[0moperation_name\u001b[0m\u001b[0;34m)\u001b[0m\u001b[0;34m\u001b[0m\u001b[0;34m\u001b[0m\u001b[0m\n\u001b[0m\u001b[1;32m   1018\u001b[0m         \u001b[0;32melse\u001b[0m\u001b[0;34m:\u001b[0m\u001b[0;34m\u001b[0m\u001b[0;34m\u001b[0m\u001b[0m\n",
            "\u001b[0;31mValidationException\u001b[0m: An error occurred (ValidationException) when calling the InvokeModel operation: Input is too long for requested model.",
            "\nDuring handling of the above exception, another exception occurred:\n",
            "\u001b[0;31mValueError\u001b[0m                                Traceback (most recent call last)",
            "\u001b[0;32m<ipython-input-40-54792379e0be>\u001b[0m in \u001b[0;36m<cell line: 0>\u001b[0;34m()\u001b[0m\n\u001b[1;32m      1\u001b[0m \u001b[0mtext\u001b[0m \u001b[0;34m=\u001b[0m \u001b[0mupload_and_read_txt\u001b[0m\u001b[0;34m(\u001b[0m\u001b[0;34m)\u001b[0m\u001b[0;34m\u001b[0m\u001b[0;34m\u001b[0m\u001b[0m\n\u001b[1;32m      2\u001b[0m \u001b[0;34m\u001b[0m\u001b[0m\n\u001b[0;32m----> 3\u001b[0;31m \u001b[0msummary\u001b[0m \u001b[0;34m=\u001b[0m \u001b[0msummarize\u001b[0m\u001b[0;34m(\u001b[0m\u001b[0mtext\u001b[0m\u001b[0;34m)\u001b[0m\u001b[0;34m\u001b[0m\u001b[0;34m\u001b[0m\u001b[0m\n\u001b[0m\u001b[1;32m      4\u001b[0m \u001b[0;34m\u001b[0m\u001b[0m\n\u001b[1;32m      5\u001b[0m \u001b[0mdisplay\u001b[0m\u001b[0;34m(\u001b[0m\u001b[0mMarkdown\u001b[0m\u001b[0;34m(\u001b[0m\u001b[0;34mf\"### Riassunto:\\n\\n{response}\"\u001b[0m\u001b[0;34m)\u001b[0m\u001b[0;34m)\u001b[0m\u001b[0;34m\u001b[0m\u001b[0;34m\u001b[0m\u001b[0m\n",
            "\u001b[0;32m<ipython-input-37-0fa28237dbfd>\u001b[0m in \u001b[0;36msummarize\u001b[0;34m(text)\u001b[0m\n\u001b[1;32m     16\u001b[0m     \u001b[0mchain\u001b[0m \u001b[0;34m=\u001b[0m \u001b[0mprompt_template\u001b[0m \u001b[0;34m|\u001b[0m \u001b[0mllm\u001b[0m \u001b[0;34m|\u001b[0m \u001b[0mStrOutputParser\u001b[0m\u001b[0;34m(\u001b[0m\u001b[0;34m)\u001b[0m\u001b[0;34m\u001b[0m\u001b[0;34m\u001b[0m\u001b[0m\n\u001b[1;32m     17\u001b[0m \u001b[0;34m\u001b[0m\u001b[0m\n\u001b[0;32m---> 18\u001b[0;31m     \u001b[0mresponse\u001b[0m \u001b[0;34m=\u001b[0m \u001b[0mchain\u001b[0m\u001b[0;34m.\u001b[0m\u001b[0minvoke\u001b[0m\u001b[0;34m(\u001b[0m\u001b[0;34m{\u001b[0m\u001b[0;34m\"text\"\u001b[0m\u001b[0;34m:\u001b[0m \u001b[0mtext\u001b[0m\u001b[0;34m}\u001b[0m\u001b[0;34m)\u001b[0m\u001b[0;34m\u001b[0m\u001b[0;34m\u001b[0m\u001b[0m\n\u001b[0m\u001b[1;32m     19\u001b[0m     \u001b[0;32mreturn\u001b[0m \u001b[0mresponse\u001b[0m\u001b[0;34m\u001b[0m\u001b[0;34m\u001b[0m\u001b[0m\n",
            "\u001b[0;32m/usr/local/lib/python3.11/dist-packages/langchain_core/runnables/base.py\u001b[0m in \u001b[0;36minvoke\u001b[0;34m(self, input, config, **kwargs)\u001b[0m\n\u001b[1;32m   2877\u001b[0m                     \u001b[0minput\u001b[0m \u001b[0;34m=\u001b[0m \u001b[0mcontext\u001b[0m\u001b[0;34m.\u001b[0m\u001b[0mrun\u001b[0m\u001b[0;34m(\u001b[0m\u001b[0mstep\u001b[0m\u001b[0;34m.\u001b[0m\u001b[0minvoke\u001b[0m\u001b[0;34m,\u001b[0m \u001b[0minput\u001b[0m\u001b[0;34m,\u001b[0m \u001b[0mconfig\u001b[0m\u001b[0;34m,\u001b[0m \u001b[0;34m**\u001b[0m\u001b[0mkwargs\u001b[0m\u001b[0;34m)\u001b[0m\u001b[0;34m\u001b[0m\u001b[0;34m\u001b[0m\u001b[0m\n\u001b[1;32m   2878\u001b[0m                 \u001b[0;32melse\u001b[0m\u001b[0;34m:\u001b[0m\u001b[0;34m\u001b[0m\u001b[0;34m\u001b[0m\u001b[0m\n\u001b[0;32m-> 2879\u001b[0;31m                     \u001b[0minput\u001b[0m \u001b[0;34m=\u001b[0m \u001b[0mcontext\u001b[0m\u001b[0;34m.\u001b[0m\u001b[0mrun\u001b[0m\u001b[0;34m(\u001b[0m\u001b[0mstep\u001b[0m\u001b[0;34m.\u001b[0m\u001b[0minvoke\u001b[0m\u001b[0;34m,\u001b[0m \u001b[0minput\u001b[0m\u001b[0;34m,\u001b[0m \u001b[0mconfig\u001b[0m\u001b[0;34m)\u001b[0m\u001b[0;34m\u001b[0m\u001b[0;34m\u001b[0m\u001b[0m\n\u001b[0m\u001b[1;32m   2880\u001b[0m         \u001b[0;31m# finish the root run\u001b[0m\u001b[0;34m\u001b[0m\u001b[0;34m\u001b[0m\u001b[0m\n\u001b[1;32m   2881\u001b[0m         \u001b[0;32mexcept\u001b[0m \u001b[0mBaseException\u001b[0m \u001b[0;32mas\u001b[0m \u001b[0me\u001b[0m\u001b[0;34m:\u001b[0m\u001b[0;34m\u001b[0m\u001b[0;34m\u001b[0m\u001b[0m\n",
            "\u001b[0;32m/usr/local/lib/python3.11/dist-packages/langchain_core/language_models/chat_models.py\u001b[0m in \u001b[0;36minvoke\u001b[0;34m(self, input, config, stop, **kwargs)\u001b[0m\n\u001b[1;32m    275\u001b[0m         return cast(\n\u001b[1;32m    276\u001b[0m             \u001b[0mChatGeneration\u001b[0m\u001b[0;34m,\u001b[0m\u001b[0;34m\u001b[0m\u001b[0;34m\u001b[0m\u001b[0m\n\u001b[0;32m--> 277\u001b[0;31m             self.generate_prompt(\n\u001b[0m\u001b[1;32m    278\u001b[0m                 \u001b[0;34m[\u001b[0m\u001b[0mself\u001b[0m\u001b[0;34m.\u001b[0m\u001b[0m_convert_input\u001b[0m\u001b[0;34m(\u001b[0m\u001b[0minput\u001b[0m\u001b[0;34m)\u001b[0m\u001b[0;34m]\u001b[0m\u001b[0;34m,\u001b[0m\u001b[0;34m\u001b[0m\u001b[0;34m\u001b[0m\u001b[0m\n\u001b[1;32m    279\u001b[0m                 \u001b[0mstop\u001b[0m\u001b[0;34m=\u001b[0m\u001b[0mstop\u001b[0m\u001b[0;34m,\u001b[0m\u001b[0;34m\u001b[0m\u001b[0;34m\u001b[0m\u001b[0m\n",
            "\u001b[0;32m/usr/local/lib/python3.11/dist-packages/langchain_core/language_models/chat_models.py\u001b[0m in \u001b[0;36mgenerate_prompt\u001b[0;34m(self, prompts, stop, callbacks, **kwargs)\u001b[0m\n\u001b[1;32m    775\u001b[0m     ) -> LLMResult:\n\u001b[1;32m    776\u001b[0m         \u001b[0mprompt_messages\u001b[0m \u001b[0;34m=\u001b[0m \u001b[0;34m[\u001b[0m\u001b[0mp\u001b[0m\u001b[0;34m.\u001b[0m\u001b[0mto_messages\u001b[0m\u001b[0;34m(\u001b[0m\u001b[0;34m)\u001b[0m \u001b[0;32mfor\u001b[0m \u001b[0mp\u001b[0m \u001b[0;32min\u001b[0m \u001b[0mprompts\u001b[0m\u001b[0;34m]\u001b[0m\u001b[0;34m\u001b[0m\u001b[0;34m\u001b[0m\u001b[0m\n\u001b[0;32m--> 777\u001b[0;31m         \u001b[0;32mreturn\u001b[0m \u001b[0mself\u001b[0m\u001b[0;34m.\u001b[0m\u001b[0mgenerate\u001b[0m\u001b[0;34m(\u001b[0m\u001b[0mprompt_messages\u001b[0m\u001b[0;34m,\u001b[0m \u001b[0mstop\u001b[0m\u001b[0;34m=\u001b[0m\u001b[0mstop\u001b[0m\u001b[0;34m,\u001b[0m \u001b[0mcallbacks\u001b[0m\u001b[0;34m=\u001b[0m\u001b[0mcallbacks\u001b[0m\u001b[0;34m,\u001b[0m \u001b[0;34m**\u001b[0m\u001b[0mkwargs\u001b[0m\u001b[0;34m)\u001b[0m\u001b[0;34m\u001b[0m\u001b[0;34m\u001b[0m\u001b[0m\n\u001b[0m\u001b[1;32m    778\u001b[0m \u001b[0;34m\u001b[0m\u001b[0m\n\u001b[1;32m    779\u001b[0m     async def agenerate_prompt(\n",
            "\u001b[0;32m/usr/local/lib/python3.11/dist-packages/langchain_core/language_models/chat_models.py\u001b[0m in \u001b[0;36mgenerate\u001b[0;34m(self, messages, stop, callbacks, tags, metadata, run_name, run_id, **kwargs)\u001b[0m\n\u001b[1;32m    632\u001b[0m                 \u001b[0;32mif\u001b[0m \u001b[0mrun_managers\u001b[0m\u001b[0;34m:\u001b[0m\u001b[0;34m\u001b[0m\u001b[0;34m\u001b[0m\u001b[0m\n\u001b[1;32m    633\u001b[0m                     \u001b[0mrun_managers\u001b[0m\u001b[0;34m[\u001b[0m\u001b[0mi\u001b[0m\u001b[0;34m]\u001b[0m\u001b[0;34m.\u001b[0m\u001b[0mon_llm_error\u001b[0m\u001b[0;34m(\u001b[0m\u001b[0me\u001b[0m\u001b[0;34m,\u001b[0m \u001b[0mresponse\u001b[0m\u001b[0;34m=\u001b[0m\u001b[0mLLMResult\u001b[0m\u001b[0;34m(\u001b[0m\u001b[0mgenerations\u001b[0m\u001b[0;34m=\u001b[0m\u001b[0;34m[\u001b[0m\u001b[0;34m]\u001b[0m\u001b[0;34m)\u001b[0m\u001b[0;34m)\u001b[0m\u001b[0;34m\u001b[0m\u001b[0;34m\u001b[0m\u001b[0m\n\u001b[0;32m--> 634\u001b[0;31m                 \u001b[0;32mraise\u001b[0m \u001b[0me\u001b[0m\u001b[0;34m\u001b[0m\u001b[0;34m\u001b[0m\u001b[0m\n\u001b[0m\u001b[1;32m    635\u001b[0m         flattened_outputs = [\n\u001b[1;32m    636\u001b[0m             \u001b[0mLLMResult\u001b[0m\u001b[0;34m(\u001b[0m\u001b[0mgenerations\u001b[0m\u001b[0;34m=\u001b[0m\u001b[0;34m[\u001b[0m\u001b[0mres\u001b[0m\u001b[0;34m.\u001b[0m\u001b[0mgenerations\u001b[0m\u001b[0;34m]\u001b[0m\u001b[0;34m,\u001b[0m \u001b[0mllm_output\u001b[0m\u001b[0;34m=\u001b[0m\u001b[0mres\u001b[0m\u001b[0;34m.\u001b[0m\u001b[0mllm_output\u001b[0m\u001b[0;34m)\u001b[0m  \u001b[0;31m# type: ignore[list-item]\u001b[0m\u001b[0;34m\u001b[0m\u001b[0;34m\u001b[0m\u001b[0m\n",
            "\u001b[0;32m/usr/local/lib/python3.11/dist-packages/langchain_core/language_models/chat_models.py\u001b[0m in \u001b[0;36mgenerate\u001b[0;34m(self, messages, stop, callbacks, tags, metadata, run_name, run_id, **kwargs)\u001b[0m\n\u001b[1;32m    622\u001b[0m             \u001b[0;32mtry\u001b[0m\u001b[0;34m:\u001b[0m\u001b[0;34m\u001b[0m\u001b[0;34m\u001b[0m\u001b[0m\n\u001b[1;32m    623\u001b[0m                 results.append(\n\u001b[0;32m--> 624\u001b[0;31m                     self._generate_with_cache(\n\u001b[0m\u001b[1;32m    625\u001b[0m                         \u001b[0mm\u001b[0m\u001b[0;34m,\u001b[0m\u001b[0;34m\u001b[0m\u001b[0;34m\u001b[0m\u001b[0m\n\u001b[1;32m    626\u001b[0m                         \u001b[0mstop\u001b[0m\u001b[0;34m=\u001b[0m\u001b[0mstop\u001b[0m\u001b[0;34m,\u001b[0m\u001b[0;34m\u001b[0m\u001b[0;34m\u001b[0m\u001b[0m\n",
            "\u001b[0;32m/usr/local/lib/python3.11/dist-packages/langchain_core/language_models/chat_models.py\u001b[0m in \u001b[0;36m_generate_with_cache\u001b[0;34m(self, messages, stop, run_manager, **kwargs)\u001b[0m\n\u001b[1;32m    844\u001b[0m         \u001b[0;32melse\u001b[0m\u001b[0;34m:\u001b[0m\u001b[0;34m\u001b[0m\u001b[0;34m\u001b[0m\u001b[0m\n\u001b[1;32m    845\u001b[0m             \u001b[0;32mif\u001b[0m \u001b[0minspect\u001b[0m\u001b[0;34m.\u001b[0m\u001b[0msignature\u001b[0m\u001b[0;34m(\u001b[0m\u001b[0mself\u001b[0m\u001b[0;34m.\u001b[0m\u001b[0m_generate\u001b[0m\u001b[0;34m)\u001b[0m\u001b[0;34m.\u001b[0m\u001b[0mparameters\u001b[0m\u001b[0;34m.\u001b[0m\u001b[0mget\u001b[0m\u001b[0;34m(\u001b[0m\u001b[0;34m\"run_manager\"\u001b[0m\u001b[0;34m)\u001b[0m\u001b[0;34m:\u001b[0m\u001b[0;34m\u001b[0m\u001b[0;34m\u001b[0m\u001b[0m\n\u001b[0;32m--> 846\u001b[0;31m                 result = self._generate(\n\u001b[0m\u001b[1;32m    847\u001b[0m                     \u001b[0mmessages\u001b[0m\u001b[0;34m,\u001b[0m \u001b[0mstop\u001b[0m\u001b[0;34m=\u001b[0m\u001b[0mstop\u001b[0m\u001b[0;34m,\u001b[0m \u001b[0mrun_manager\u001b[0m\u001b[0;34m=\u001b[0m\u001b[0mrun_manager\u001b[0m\u001b[0;34m,\u001b[0m \u001b[0;34m**\u001b[0m\u001b[0mkwargs\u001b[0m\u001b[0;34m\u001b[0m\u001b[0;34m\u001b[0m\u001b[0m\n\u001b[1;32m    848\u001b[0m                 )\n",
            "\u001b[0;32m/usr/local/lib/python3.11/dist-packages/langchain_aws/chat_models/bedrock.py\u001b[0m in \u001b[0;36m_generate\u001b[0;34m(self, messages, stop, run_manager, **kwargs)\u001b[0m\n\u001b[1;32m    550\u001b[0m                 \u001b[0mparams\u001b[0m\u001b[0;34m[\u001b[0m\u001b[0;34m\"stop_sequences\"\u001b[0m\u001b[0;34m]\u001b[0m \u001b[0;34m=\u001b[0m \u001b[0mstop\u001b[0m\u001b[0;34m\u001b[0m\u001b[0;34m\u001b[0m\u001b[0m\n\u001b[1;32m    551\u001b[0m \u001b[0;34m\u001b[0m\u001b[0m\n\u001b[0;32m--> 552\u001b[0;31m             completion, tool_calls, llm_output = self._prepare_input_and_invoke(\n\u001b[0m\u001b[1;32m    553\u001b[0m                 \u001b[0mprompt\u001b[0m\u001b[0;34m=\u001b[0m\u001b[0mprompt\u001b[0m\u001b[0;34m,\u001b[0m\u001b[0;34m\u001b[0m\u001b[0;34m\u001b[0m\u001b[0m\n\u001b[1;32m    554\u001b[0m                 \u001b[0mstop\u001b[0m\u001b[0;34m=\u001b[0m\u001b[0mstop\u001b[0m\u001b[0;34m,\u001b[0m\u001b[0;34m\u001b[0m\u001b[0;34m\u001b[0m\u001b[0m\n",
            "\u001b[0;32m/usr/local/lib/python3.11/dist-packages/langchain_aws/llms/bedrock.py\u001b[0m in \u001b[0;36m_prepare_input_and_invoke\u001b[0;34m(self, prompt, system, messages, stop, run_manager, **kwargs)\u001b[0m\n\u001b[1;32m    735\u001b[0m \u001b[0;34m\u001b[0m\u001b[0m\n\u001b[1;32m    736\u001b[0m         \u001b[0;32mexcept\u001b[0m \u001b[0mException\u001b[0m \u001b[0;32mas\u001b[0m \u001b[0me\u001b[0m\u001b[0;34m:\u001b[0m\u001b[0;34m\u001b[0m\u001b[0;34m\u001b[0m\u001b[0m\n\u001b[0;32m--> 737\u001b[0;31m             \u001b[0;32mraise\u001b[0m \u001b[0mValueError\u001b[0m\u001b[0;34m(\u001b[0m\u001b[0;34mf\"Error raised by bedrock service: {e}\"\u001b[0m\u001b[0;34m)\u001b[0m\u001b[0;34m\u001b[0m\u001b[0;34m\u001b[0m\u001b[0m\n\u001b[0m\u001b[1;32m    738\u001b[0m \u001b[0;34m\u001b[0m\u001b[0m\n\u001b[1;32m    739\u001b[0m         \u001b[0;32mif\u001b[0m \u001b[0mstop\u001b[0m \u001b[0;32mis\u001b[0m \u001b[0;32mnot\u001b[0m \u001b[0;32mNone\u001b[0m\u001b[0;34m:\u001b[0m\u001b[0;34m\u001b[0m\u001b[0;34m\u001b[0m\u001b[0m\n",
            "\u001b[0;31mValueError\u001b[0m: Error raised by bedrock service: An error occurred (ValidationException) when calling the InvokeModel operation: Input is too long for requested model."
          ]
        }
      ],
      "source": [
        "text = upload_and_read_txt()\n",
        "\n",
        "summary = summarize(text)\n",
        "\n",
        "display(Markdown(f\"### Riassunto:\\n\\n{response}\"))"
      ]
    },
    {
      "cell_type": "code",
      "source": [
        "from langchain.text_splitter import RecursiveCharacterTextSplitter\n",
        "text_splitter = RecursiveCharacterTextSplitter(chunk_size=50000, chunk_overlap=500)\n",
        "chunks = text_splitter.split_text(text)\n",
        "\n",
        "print(len(chunks))\n"
      ],
      "metadata": {
        "colab": {
          "base_uri": "https://localhost:8080/"
        },
        "id": "Li6b-Yt1pcZe",
        "outputId": "a48e6508-1ce7-45bb-a4de-5f92732805d9"
      },
      "execution_count": 49,
      "outputs": [
        {
          "output_type": "stream",
          "name": "stdout",
          "text": [
            "12\n"
          ]
        }
      ]
    },
    {
      "cell_type": "code",
      "source": [
        "def summarize_more(text):\n",
        "\n",
        "    prompt_template = PromptTemplate(\n",
        "        input_variables=[\"text\"],\n",
        "        template=\"\"\"\n",
        "            Riassumi il seguente testo:\n",
        "            {text}\n",
        "\n",
        "            REGOLE\n",
        "            - per ogni canto ritorna max due righe\n",
        "        \"\"\"\n",
        "    )\n",
        "\n",
        "    chain = prompt_template | llm | StrOutputParser()\n",
        "\n",
        "    response = chain.invoke({\"text\": text})\n",
        "    return response\n",
        "\n",
        "summaries = []\n",
        "for chunk in chunks:\n",
        "    response = summarize_more(chunk)\n",
        "    summaries.append(response)\n"
      ],
      "metadata": {
        "id": "pEOlyw2rpld6"
      },
      "execution_count": 51,
      "outputs": []
    },
    {
      "cell_type": "code",
      "source": [
        "summary = \"\\n\".join(summaries)\n",
        "display(Markdown(f\"### Riassunto:\\n\\n{summary}\"))"
      ],
      "metadata": {
        "id": "QVembRNH_kbi",
        "outputId": "ae3a6da8-54ff-4c08-ad9e-0e357d923108",
        "colab": {
          "base_uri": "https://localhost:8080/",
          "height": 1000
        }
      },
      "execution_count": 52,
      "outputs": [
        {
          "output_type": "display_data",
          "data": {
            "text/plain": [
              "<IPython.core.display.Markdown object>"
            ],
            "text/markdown": "### Riassunto:\n\nEcco un breve riassunto dei principali eventi dei Canti I-X dell'Inferno di Dante:\n\nCanto I: Il poeta si ritrova in una selva oscura e smarrita. Incontra Virgilio, che gli si offre come guida per l'Inferno.\n\nCanto II: Beatrice manda Virgilio a soccorrere Dante, che esita ad affrontare il viaggio. Virgilio lo convince a seguirlo.\n\nCanto III: Dante e Virgilio entrano nell'Inferno, leggendo l'iscrizione sulla porta che annuncia la disperazione eterna. Incontrano le anime dei pusillanimi.\n\nCanto IV: Dante e Virgilio giungono al Limbo, dove trovano i grandi spiriti dell'antichità, tra cui Omero, Orazio, Ovidio e Lucano.\n\nCanto V: Incontrano le anime dei lussuriosi, tra cui Francesca da Rimini, che racconta la sua tragica storia d'amore.\n\nCanto VI: Giungono nel terzo cerchio, dove sono puniti i golosi, tormentati dalla pioggia, dal freddo e da Cerbero.\n\nCanto VII: Nel quarto cerchio, Dante vede i prodighi e gli avari rotolare pesi. Virgilio spiega il ruolo della Fortuna.\n\nCanto VIII: Attraversano la palude Stigia, dove incontrano Filippo Argenti. Giungono alle mura di Dite, ma i demoni ne impediscono l'ingresso.\n\nCanto IX: Virgilio torna solo e spiega a Dante che dovrà affrontare da solo l'ingresso di Dite. Appaiono le Furie.\n\nCanto X: Entrano nella città di Dite, dove sono puniti gli eretici, rinchiusi in sepolcri infuocati.\nEcco un breve riassunto dei principali eventi dei Canti X-XIX dell'Inferno di Dante:\n\nCanto X: Dante e Virgilio incontrano Farinata degli Uberti, un eretico condannato all'Inferno. Farinata profetizza l'esilio di Dante da Firenze.\n\nCanto XI: Virgilio spiega a Dante la struttura dell'Inferno, dividendolo in cerchi in base alla gravità dei peccati.\n\nCanto XII: Dante e Virgilio scendono nel cerchio dei violenti, dove trovano i centauri che sorvegliano un fiume di sangue bollente.\n\nCanto XIII: Nel bosco dei suicidi, Dante parla con un'anima che si è trasformata in un albero.\n\nCanto XIV: Dante e Virgilio incontrano Capaneo, un bestemmiatore, e scorgono il Minotauro, guardiano del cerchio dei violenti.\n\nCanto XV: Dante incontra il suo maestro Brunetto Latino, condannato per sodomia, e apprende il suo destino a Firenze.\n\nCanto XVI: Dante parla con tre famosi fiorentini, Guido Guerra, Tegghiaio Aldobrandi e Iacopo Rusticucci, condannati per violenza.\n\nCanto XVII: Dante e Virgilio cavalcano il mostro Gerione per scendere nel cerchio degli usurai.\n\nCanto XVIII: Giunti a Malebolge, Dante vede i ruffiani frustati dai demoni.\n\nCanto XIX: Dante e Virgilio scendono nel cerchio dei simoniaci, dove Dante riconosce un suo conoscente.\nEcco un breve riassunto dei canti dell'Inferno:\n\nCanto XIX: Dante e Virgilio incontrano i simoniaci, puniti nella terza bolgia. Qui Dante parla con Papa Bonifacio VIII, che lo scambia per il suo successore Clemente V.\n\nCanto XX: Nella quarta bolgia, Dante vede gli indovini, le cui teste sono rivolte all'indietro. Virgilio spiega la storia di Manto e la fondazione di Mantova.\n\nCanto XXI: Dante e Virgilio giungono all'argine della quinta bolgia, dove sono puniti i barattieri. I diavoli Malebranche li accolgono con minacce, ma Virgilio riesce a farli passare.\n\nCanto XXII: Nella quinta bolgia, Dante vede i barattieri immersi in una pece bollente. Assiste alla trasformazione di un barattiere in serpente e viceversa.\n\nCanto XXIII: Dante e Virgilio proseguono il loro cammino. Nella sesta bolgia, Dante vede i falsari, trasformati in orribili creature.\n\nCanto XXIV: Dante e Virgilio salgono sulla settima bolgia, dove sono puniti i ladri, trasformati in serpenti.\n\nCanto XXV: Dante assiste a ulteriori metamorfosi di dannati, tra cui Vanni Fucci, che profetizza sventure per Firenze.\n\nCanto XXVI: Dante e Virgilio giungono all'ottava bolgia, dove sono puniti i consiglieri fraudolenti. Qui Dante incontra Ulisse e Diomede.\n\nCanto XXVII: Nella stessa bolgia, Dante parla con un altro dannato, Guido da Montefeltro, che gli racconta la sua storia.\nEcco un breve riassunto del Canto III del Purgatorio:\n\nDante e Virgilio si ritrovano sulla spiaggia del Purgatorio, dove incontrano un gruppo di anime che stanno aspettando di poter iniziare la loro ascesa. Tra loro c'è Casella, un musicista amico di Dante, che canta una canzone d'amore. Tutti si fermano ad ascoltarlo, finché un vecchio li richiama all'ordine, esortandoli a salire sul monte per iniziare la loro purificazione. A quel punto le anime si affrettano a raggiungere la costa, abbandonando il canto.\nEcco un breve riassunto dei principali eventi dei Canti III-XII del Purgatorio:\n\nCanto III: Dante e Virgilio incontrano le anime dei morti che si sono pentiti in punto di morte. Tra loro c'è Manfredi, nipote dell'imperatrice Costanza, che chiede a Dante di informare sua figlia della sua sorte.\n\nCanto IV: Dante e Virgilio salgono il monte del Purgatorio, incontrando anime che attendono di poter salire. Tra loro c'è Belacqua, che spiega di dover attendere un certo periodo di tempo prima di poter iniziare la sua purificazione.\n\nCanto V: Dante e Virgilio incontrano un gruppo di anime che pregano per essere liberate dai loro peccati. Tra loro c'è Pia de' Tolomei, che chiede a Dante di ricordare il suo nome alla sua famiglia.\n\nCanto VI: Dante critica aspramente l'Italia, divisa e in preda a lotte intestine, e Firenze, sua città natale, per la sua instabilità politica.\n\nCanto VII: Dante e Virgilio incontrano anime illustri, come Rodolfo d'Asburgo e Ottocaro di Boemia, che scontano le loro colpe nel Purgatorio.\n\nCanto VIII: Dante e Virgilio assistono all'arrivo di due angeli che cacciano un serpente, simbolo del male, dalla valletta in cui si trovano le anime.\n\nCanto IX: Dante e Virgilio giungono alla porta del Purgatorio, dove un angelo li accoglie e li fa entrare dopo averli purificati.\n\nCanto X: Dante e Virgilio ammirano i bassorilievi che decorano la parete del Purgatorio, raffiguranti episodi di umiltà e superbia.\n\nCanto XI: Le anime del Purgatorio pregano per ottenere la remissione dei loro peccati. Dante incontra Omberto Aldobrandeschi e Oderisi da Gubbio, artisti del passato.\n\nCanto XII: Dante e Virgilio proseguono la salita, incontrando altre anime che scontano la pena della superbia.\nEcco un breve riassunto dei Canti XII-XXI del Purgatorio:\n\nCanto XII: Dante e Virgilio salgono il monte del Purgatorio, ammirando le raffigurazioni scolpite sulla parete. Vengono raggiunti da un angelo che li invita a salire più in alto.\n\nCanto XIII: Dante e Virgilio giungono al secondo girone, dove sono puniti gli invidiosi. Sentono voci che cantano esempi di carità e di invidia punita.\n\nCanto XIV: Dante incontra l'anima di Guido del Duca, che deplora la decadenza morale della Romagna. Poi sente una voce che annuncia l'arrivo di un angelo.\n\nCanto XV-XVI: Dante e Virgilio proseguono il cammino, incontrando anime che piangono il loro peccato di avarizia. Il poeta apprende da Virgilio la natura dell'amore e del libero arbitrio.\n\nCanto XVII-XVIII: Dante ha una visione allegorica della Sirena, simbolo della seduzione mondana, che viene svelata dalla Donna santa. Poi sente voci che incitano alla fretta di raggiungere la salvezza.\n\nCanto XIX-XX: Dante incontra l'anima di Papa Adriano V, che spiega come l'avarizia sia punita in quel girone. Poi il monte trema e si ode un inno di gloria.\n\nCanto XXI: Dante e Virgilio proseguono il cammino, ascoltando le anime che piangono i loro peccati di avarizia.\nEcco un breve riassunto del testo:\n\nNel Purgatorio, Dante e Virgilio incontrano un'ombra che si rivela essere Stazio. Stazio racconta la sua storia e come la lettura dell'Eneide di Virgilio lo abbia portato alla fede cristiana. Poi Virgilio spiega a Dante il processo di formazione dell'anima umana. Infine, Stazio e Virgilio guidano Dante attraverso il fuoco purificatore.\n\nDante incontra anche l'anima di Guido Guinizzelli, che lo elogia come miglior poeta d'amore. Poco dopo, Dante ha una visione di Lia e Rachele, simboli della vita attiva e contemplativa. Giunti in cima al Purgatorio, Virgilio lascia Dante, affidandolo alle cure di Beatrice.\nEcco un breve riassunto dei principali eventi dei Canti III, IV e V del Paradiso:\n\nCanto III: Dante incontra l'anima di Piccarda Donati, che gli spiega come le anime beate siano pienamente appagate dalla volontà di Dio, senza desiderare nulla di più. Piccarda racconta la sua storia, come fu costretta a lasciare il convento.\n\nCanto IV: Beatrice risponde ai dubbi di Dante sulla giustizia divina, spiegando come la volontà umana, anche se violentata, non perde il suo valore agli occhi di Dio. Discute anche della teoria platonica sulla reincarnazione delle anime.\n\nCanto V: Beatrice continua a spiegare il valore del voto e del libero arbitrio. Spiega che il voto è un sacrificio prezioso agli occhi di Dio, ma che può essere sostituito con il permesso della Chiesa. Ammonisce i cristiani a non essere leggeri nei loro voti.\nEcco un breve riassunto dei principali eventi dei Canti VI-XV del Paradiso:\n\nCanto VI: Giustiniano racconta la storia dell'aquila imperiale romana, dalla sua fondazione fino ai suoi grandi successi. Critica i Ghibellini e i Guelfi per il loro uso improprio del simbolo dell'aquila.\n\nCanto VII: Beatrice spiega come la redenzione dell'uomo attraverso l'incarnazione di Cristo sia stata la soluzione più degna al peccato originale.\n\nCanto VIII: Dante incontra l'anima di Carlo Martello, che gli spiega come la diversità degli uomini sia voluta da Dio per il bene dell'umanità.\n\nCanto IX: Cunizza da Romano e Folco di Marsiglia lodano l'operato di San Domenico, fondatore dell'Ordine dei Predicatori.\n\nCanto X: San Tommaso d'Aquino spiega come la perfezione umana si realizzi nell'unione della natura divina e umana in Cristo.\n\nCanto XI-XII: San Bonaventura elogia San Francesco d'Assisi e il suo Ordine, contrapponendolo alla decadenza di alcuni seguaci.\n\nCanto XIII-XIV: Dante contempla la Trinità e la gloria dei beati, ammirando la bellezza della croce di luce che risplende in Paradiso.\n\nCanto XV: Dante incontra il suo antenato Cacciaguida, che gli profetizza l'esilio e lo esorta ad affrontarlo con coraggio.\nEcco un breve riassunto dei principali eventi dei Canti XV-XXIV del Paradiso di Dante:\n\nCanto XV: Dante incontra il suo antenato Cacciaguida, che gli rivela la storia della sua famiglia e della Firenze del passato, prima che fosse corrotta.\n\nCanto XVI: Cacciaguida profetizza a Dante l'esilio e le difficoltà che dovrà affrontare, ma lo incoraggia a non temere.\n\nCanto XVII: Cacciaguida spiega a Dante come la Provvidenza divina conosca il futuro, pur senza determinarlo. Preannuncia l'imminente esilio di Dante.\n\nCanto XVIII: Dante vede le anime dei contemplativi, tra cui San Pier Damiani, che critica aspramente la corruzione del clero.\n\nCanto XIX: Pier Damiani spiega come la salvezza dipenda dalla fede in Cristo, non dalle opere. Condanna la cupidigia del clero.\n\nCanto XX: Dante vede le anime di altri contemplativi, tra cui Benedetto e Macario. Ammira la bellezza del Paradiso.\n\nCanto XXI: Un'anima beata, identificata come San Pier Damiani, spiega a Dante il motivo per cui non si canta nel cielo di Saturno.\n\nCanto XXII: Dante sale al cielo delle Stelle Fisse. Vede le anime dei contemplativi e San Benedetto, che critica la decadenza dei monasteri.\n\nCanto XXIII: Dante contempla la gloriosa processione di Santi e Angeli, guidati dalla Vergine Maria.\n\nCanto XXIV: Inizia l'esame sulla fede, condotto dall'apostolo San Pietro.\nEcco un breve riassunto dei principali contenuti dei Canti XXIV-XXXIII del Paradiso:\n\nCanto XXIV: Il poeta è interrogato sulla fede da San Pietro, che lo esamina sulla sua credenza. Dante risponde in modo soddisfacente, dimostrando la sua profonda conoscenza della dottrina cristiana.\n\nCanto XXV: Dante è incoronato poeta e riceve l'investitura da San Pietro. Appare poi l'anima di San Giacomo, che lo interroga sulla speranza.\n\nCanto XXVI: Appare l'anima di Adamo, che spiega a Dante l'origine del male e la creazione degli angeli.\n\nCanto XXVII: Dante assiste a una dura invettiva di San Pietro contro la corruzione della Chiesa.\n\nCanto XXVIII: Dante contempla la struttura gerarchica del Paradiso, con i beati disposti in una rosa mistica.\n\nCanto XXIX: San Bernardo spiega a Dante la disposizione dei beati nella rosa celeste.\n\nCanto XXX: Dante ammira la bellezza della rosa mistica e la luce divina che la irradia.\n\nCanto XXXI-XXXIII: San Bernardo guida Dante alla visione finale di Dio, culminante nell'ultima preghiera alla Vergine Maria.\nEcco un breve riassunto del Canto XXXIII del Paradiso di Dante:\n\nLa Vergine Maria è lodata come nobile e alta creatura, che ha nobilitato la natura umana. In lei si è acceso l'amore divino, ed è fonte di carità e speranza per i mortali. Il poeta chiede alla Vergine di purificarlo dalla sua mortalità, affinché possa elevarsi alla visione suprema. Beatrice e i beati intercedono per lui. Il poeta raggiunge la visione di Dio, una luce infinita e incomprensibile, in cui vede riflessa l'immagine dell'umanità. Infine, il poeta contempla il mistero della Trinità, espresso in tre cerchi di luce."
          },
          "metadata": {}
        }
      ]
    }
  ],
  "metadata": {
    "colab": {
      "provenance": []
    },
    "kernelspec": {
      "display_name": "Python 3",
      "language": "python",
      "name": "python3"
    },
    "language_info": {
      "codemirror_mode": {
        "name": "ipython",
        "version": 3
      },
      "file_extension": ".py",
      "mimetype": "text/x-python",
      "name": "python",
      "nbconvert_exporter": "python",
      "pygments_lexer": "ipython3",
      "version": "3.10.12"
    }
  },
  "nbformat": 4,
  "nbformat_minor": 0
}