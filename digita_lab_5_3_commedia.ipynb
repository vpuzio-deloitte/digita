{
  "cells": [
    {
      "cell_type": "markdown",
      "metadata": {
        "id": "71doM1OUvYg6"
      },
      "source": [
        "## Init e dependencies"
      ]
    },
    {
      "cell_type": "code",
      "execution_count": 8,
      "metadata": {
        "colab": {
          "base_uri": "https://localhost:8080/"
        },
        "id": "1bA4gJX0vYg7",
        "outputId": "5f11c8e0-ce94-47d9-b4a6-ba91ea6ef778"
      },
      "outputs": [
        {
          "name": "stdout",
          "output_type": "stream",
          "text": [
            "Defaulting to user installation because normal site-packages is not writeable\n",
            "Requirement already satisfied: langchain==0.2.7 in /home/vpuzio/.local/lib/python3.10/site-packages (0.2.7)\n",
            "Requirement already satisfied: langchain_aws in /home/vpuzio/.local/lib/python3.10/site-packages (0.1.18)\n",
            "Requirement already satisfied: langchain-community in /home/vpuzio/.local/lib/python3.10/site-packages (0.2.7)\n",
            "Requirement already satisfied: langchain_core in /home/vpuzio/.local/lib/python3.10/site-packages (0.2.43)\n",
            "Requirement already satisfied: boto3 in /home/vpuzio/.local/lib/python3.10/site-packages (1.34.162)\n",
            "Requirement already satisfied: botocore in /home/vpuzio/.local/lib/python3.10/site-packages (1.34.162)\n",
            "Requirement already satisfied: tenacity!=8.4.0,<9.0.0,>=8.1.0 in /home/vpuzio/.local/lib/python3.10/site-packages (from langchain==0.2.7) (8.2.3)\n",
            "Requirement already satisfied: PyYAML>=5.3 in /usr/lib/python3/dist-packages (from langchain==0.2.7) (5.4.1)\n",
            "Requirement already satisfied: SQLAlchemy<3,>=1.4 in /home/vpuzio/.local/lib/python3.10/site-packages (from langchain==0.2.7) (2.0.27)\n",
            "Requirement already satisfied: aiohttp<4.0.0,>=3.8.3 in /home/vpuzio/.local/lib/python3.10/site-packages (from langchain==0.2.7) (3.9.3)\n",
            "Requirement already satisfied: async-timeout<5.0.0,>=4.0.0 in /home/vpuzio/.local/lib/python3.10/site-packages (from langchain==0.2.7) (4.0.3)\n",
            "Requirement already satisfied: numpy<2,>=1 in /home/vpuzio/.local/lib/python3.10/site-packages (from langchain==0.2.7) (1.26.0)\n",
            "Requirement already satisfied: langsmith<0.2.0,>=0.1.17 in /home/vpuzio/.local/lib/python3.10/site-packages (from langchain==0.2.7) (0.1.147)\n",
            "Requirement already satisfied: pydantic<3,>=1 in /home/vpuzio/.local/lib/python3.10/site-packages (from langchain==0.2.7) (2.6.3)\n",
            "Requirement already satisfied: requests<3,>=2 in /home/vpuzio/.local/lib/python3.10/site-packages (from langchain==0.2.7) (2.31.0)\n",
            "Requirement already satisfied: langchain-text-splitters<0.3.0,>=0.2.0 in /home/vpuzio/.local/lib/python3.10/site-packages (from langchain==0.2.7) (0.2.4)\n",
            "Requirement already satisfied: dataclasses-json<0.7,>=0.5.7 in /home/vpuzio/.local/lib/python3.10/site-packages (from langchain-community) (0.6.4)\n",
            "Requirement already satisfied: packaging<25,>=23.2 in /home/vpuzio/.local/lib/python3.10/site-packages (from langchain_core) (23.2)\n",
            "Requirement already satisfied: jsonpatch<2.0,>=1.33 in /home/vpuzio/.local/lib/python3.10/site-packages (from langchain_core) (1.33)\n",
            "Requirement already satisfied: typing-extensions>=4.7 in /home/vpuzio/.local/lib/python3.10/site-packages (from langchain_core) (4.9.0)\n",
            "Requirement already satisfied: s3transfer<0.11.0,>=0.10.0 in /home/vpuzio/.local/lib/python3.10/site-packages (from boto3) (0.10.1)\n",
            "Requirement already satisfied: jmespath<2.0.0,>=0.7.1 in /home/vpuzio/.local/lib/python3.10/site-packages (from boto3) (1.0.1)\n",
            "Requirement already satisfied: python-dateutil<3.0.0,>=2.1 in /home/vpuzio/.local/lib/python3.10/site-packages (from botocore) (2.8.2)\n",
            "Requirement already satisfied: urllib3!=2.2.0,<3,>=1.25.4 in /home/vpuzio/.local/lib/python3.10/site-packages (from botocore) (2.2.1)\n",
            "Requirement already satisfied: yarl<2.0,>=1.0 in /home/vpuzio/.local/lib/python3.10/site-packages (from aiohttp<4.0.0,>=3.8.3->langchain==0.2.7) (1.9.4)\n",
            "Requirement already satisfied: attrs>=17.3.0 in /home/vpuzio/.local/lib/python3.10/site-packages (from aiohttp<4.0.0,>=3.8.3->langchain==0.2.7) (23.2.0)\n",
            "Requirement already satisfied: aiosignal>=1.1.2 in /home/vpuzio/.local/lib/python3.10/site-packages (from aiohttp<4.0.0,>=3.8.3->langchain==0.2.7) (1.3.1)\n",
            "Requirement already satisfied: multidict<7.0,>=4.5 in /home/vpuzio/.local/lib/python3.10/site-packages (from aiohttp<4.0.0,>=3.8.3->langchain==0.2.7) (6.0.5)\n",
            "Requirement already satisfied: frozenlist>=1.1.1 in /home/vpuzio/.local/lib/python3.10/site-packages (from aiohttp<4.0.0,>=3.8.3->langchain==0.2.7) (1.4.1)\n",
            "Requirement already satisfied: typing-inspect<1,>=0.4.0 in /home/vpuzio/.local/lib/python3.10/site-packages (from dataclasses-json<0.7,>=0.5.7->langchain-community) (0.9.0)\n",
            "Requirement already satisfied: marshmallow<4.0.0,>=3.18.0 in /home/vpuzio/.local/lib/python3.10/site-packages (from dataclasses-json<0.7,>=0.5.7->langchain-community) (3.21.0)\n",
            "Requirement already satisfied: jsonpointer>=1.9 in /home/vpuzio/.local/lib/python3.10/site-packages (from jsonpatch<2.0,>=1.33->langchain_core) (2.4)\n",
            "Requirement already satisfied: requests-toolbelt<2.0.0,>=1.0.0 in /home/vpuzio/.local/lib/python3.10/site-packages (from langsmith<0.2.0,>=0.1.17->langchain==0.2.7) (1.0.0)\n",
            "Requirement already satisfied: httpx<1,>=0.23.0 in /home/vpuzio/.local/lib/python3.10/site-packages (from langsmith<0.2.0,>=0.1.17->langchain==0.2.7) (0.27.0)\n",
            "Requirement already satisfied: orjson<4.0.0,>=3.9.14 in /home/vpuzio/.local/lib/python3.10/site-packages (from langsmith<0.2.0,>=0.1.17->langchain==0.2.7) (3.9.15)\n",
            "Requirement already satisfied: annotated-types>=0.4.0 in /home/vpuzio/.local/lib/python3.10/site-packages (from pydantic<3,>=1->langchain==0.2.7) (0.6.0)\n",
            "Requirement already satisfied: pydantic-core==2.16.3 in /home/vpuzio/.local/lib/python3.10/site-packages (from pydantic<3,>=1->langchain==0.2.7) (2.16.3)\n",
            "Requirement already satisfied: six>=1.5 in /usr/lib/python3/dist-packages (from python-dateutil<3.0.0,>=2.1->botocore) (1.16.0)\n",
            "Requirement already satisfied: certifi>=2017.4.17 in /home/vpuzio/.local/lib/python3.10/site-packages (from requests<3,>=2->langchain==0.2.7) (2024.2.2)\n",
            "Requirement already satisfied: idna<4,>=2.5 in /home/vpuzio/.local/lib/python3.10/site-packages (from requests<3,>=2->langchain==0.2.7) (3.6)\n",
            "Requirement already satisfied: charset-normalizer<4,>=2 in /home/vpuzio/.local/lib/python3.10/site-packages (from requests<3,>=2->langchain==0.2.7) (3.3.2)\n",
            "Requirement already satisfied: greenlet!=0.4.17 in /home/vpuzio/.local/lib/python3.10/site-packages (from SQLAlchemy<3,>=1.4->langchain==0.2.7) (3.0.3)\n",
            "Requirement already satisfied: sniffio in /home/vpuzio/.local/lib/python3.10/site-packages (from httpx<1,>=0.23.0->langsmith<0.2.0,>=0.1.17->langchain==0.2.7) (1.3.1)\n",
            "Requirement already satisfied: httpcore==1.* in /home/vpuzio/.local/lib/python3.10/site-packages (from httpx<1,>=0.23.0->langsmith<0.2.0,>=0.1.17->langchain==0.2.7) (1.0.4)\n",
            "Requirement already satisfied: anyio in /home/vpuzio/.local/lib/python3.10/site-packages (from httpx<1,>=0.23.0->langsmith<0.2.0,>=0.1.17->langchain==0.2.7) (4.3.0)\n",
            "Requirement already satisfied: h11<0.15,>=0.13 in /home/vpuzio/.local/lib/python3.10/site-packages (from httpcore==1.*->httpx<1,>=0.23.0->langsmith<0.2.0,>=0.1.17->langchain==0.2.7) (0.14.0)\n",
            "Requirement already satisfied: mypy-extensions>=0.3.0 in /home/vpuzio/.local/lib/python3.10/site-packages (from typing-inspect<1,>=0.4.0->dataclasses-json<0.7,>=0.5.7->langchain-community) (1.0.0)\n",
            "Requirement already satisfied: exceptiongroup>=1.0.2 in /home/vpuzio/.local/lib/python3.10/site-packages (from anyio->httpx<1,>=0.23.0->langsmith<0.2.0,>=0.1.17->langchain==0.2.7) (1.2.0)\n",
            "Defaulting to user installation because normal site-packages is not writeable\n",
            "Collecting dotenv\n",
            "  Using cached dotenv-0.0.5.tar.gz (2.4 kB)\n",
            "  Preparing metadata (setup.py) ... \u001b[?25lerror\n",
            "  \u001b[1;31merror\u001b[0m: \u001b[1msubprocess-exited-with-error\u001b[0m\n",
            "  \n",
            "  \u001b[31m×\u001b[0m \u001b[32mpython setup.py egg_info\u001b[0m did not run successfully.\n",
            "  \u001b[31m│\u001b[0m exit code: \u001b[1;36m1\u001b[0m\n",
            "  \u001b[31m╰─>\u001b[0m \u001b[31m[64 lines of output]\u001b[0m\n",
            "  \u001b[31m   \u001b[0m /usr/lib/python3/dist-packages/setuptools/installer.py:27: SetuptoolsDeprecationWarning: setuptools.installer is deprecated. Requirements should be satisfied by a PEP 517 installer.\n",
            "  \u001b[31m   \u001b[0m   warnings.warn(\n",
            "  \u001b[31m   \u001b[0m   error: subprocess-exited-with-error\n",
            "  \u001b[31m   \u001b[0m \n",
            "  \u001b[31m   \u001b[0m   × python setup.py egg_info did not run successfully.\n",
            "  \u001b[31m   \u001b[0m   │ exit code: 1\n",
            "  \u001b[31m   \u001b[0m   ╰─> [16 lines of output]\n",
            "  \u001b[31m   \u001b[0m       Traceback (most recent call last):\n",
            "  \u001b[31m   \u001b[0m         File \"<string>\", line 2, in <module>\n",
            "  \u001b[31m   \u001b[0m         File \"<pip-setuptools-caller>\", line 14, in <module>\n",
            "  \u001b[31m   \u001b[0m         File \"/tmp/pip-wheel-1uvasgas/distribute_dad460a4ef6f4be188caf79dce1700ff/setuptools/__init__.py\", line 2, in <module>\n",
            "  \u001b[31m   \u001b[0m           from setuptools.extension import Extension, Library\n",
            "  \u001b[31m   \u001b[0m         File \"/tmp/pip-wheel-1uvasgas/distribute_dad460a4ef6f4be188caf79dce1700ff/setuptools/extension.py\", line 5, in <module>\n",
            "  \u001b[31m   \u001b[0m           from setuptools.dist import _get_unpatched\n",
            "  \u001b[31m   \u001b[0m         File \"/tmp/pip-wheel-1uvasgas/distribute_dad460a4ef6f4be188caf79dce1700ff/setuptools/dist.py\", line 7, in <module>\n",
            "  \u001b[31m   \u001b[0m           from setuptools.command.install import install\n",
            "  \u001b[31m   \u001b[0m         File \"/tmp/pip-wheel-1uvasgas/distribute_dad460a4ef6f4be188caf79dce1700ff/setuptools/command/__init__.py\", line 8, in <module>\n",
            "  \u001b[31m   \u001b[0m           from setuptools.command import install_scripts\n",
            "  \u001b[31m   \u001b[0m         File \"/tmp/pip-wheel-1uvasgas/distribute_dad460a4ef6f4be188caf79dce1700ff/setuptools/command/install_scripts.py\", line 3, in <module>\n",
            "  \u001b[31m   \u001b[0m           from pkg_resources import Distribution, PathMetadata, ensure_directory\n",
            "  \u001b[31m   \u001b[0m         File \"/tmp/pip-wheel-1uvasgas/distribute_dad460a4ef6f4be188caf79dce1700ff/pkg_resources.py\", line 1518, in <module>\n",
            "  \u001b[31m   \u001b[0m           register_loader_type(importlib_bootstrap.SourceFileLoader, DefaultProvider)\n",
            "  \u001b[31m   \u001b[0m       AttributeError: module 'importlib._bootstrap' has no attribute 'SourceFileLoader'\n",
            "  \u001b[31m   \u001b[0m       [end of output]\n",
            "  \u001b[31m   \u001b[0m \n",
            "  \u001b[31m   \u001b[0m   note: This error originates from a subprocess, and is likely not a problem with pip.\n",
            "  \u001b[31m   \u001b[0m error: metadata-generation-failed\n",
            "  \u001b[31m   \u001b[0m \n",
            "  \u001b[31m   \u001b[0m × Encountered error while generating package metadata.\n",
            "  \u001b[31m   \u001b[0m ╰─> See above for output.\n",
            "  \u001b[31m   \u001b[0m \n",
            "  \u001b[31m   \u001b[0m note: This is an issue with the package mentioned above, not pip.\n",
            "  \u001b[31m   \u001b[0m hint: See above for details.\n",
            "  \u001b[31m   \u001b[0m Traceback (most recent call last):\n",
            "  \u001b[31m   \u001b[0m   File \"/usr/lib/python3/dist-packages/setuptools/installer.py\", line 82, in fetch_build_egg\n",
            "  \u001b[31m   \u001b[0m     subprocess.check_call(cmd)\n",
            "  \u001b[31m   \u001b[0m   File \"/usr/lib/python3.10/subprocess.py\", line 369, in check_call\n",
            "  \u001b[31m   \u001b[0m     raise CalledProcessError(retcode, cmd)\n",
            "  \u001b[31m   \u001b[0m subprocess.CalledProcessError: Command '['/usr/bin/python3', '-m', 'pip', '--disable-pip-version-check', 'wheel', '--no-deps', '-w', '/tmp/tmpvgd82n53', '--quiet', 'distribute']' returned non-zero exit status 1.\n",
            "  \u001b[31m   \u001b[0m \n",
            "  \u001b[31m   \u001b[0m The above exception was the direct cause of the following exception:\n",
            "  \u001b[31m   \u001b[0m \n",
            "  \u001b[31m   \u001b[0m Traceback (most recent call last):\n",
            "  \u001b[31m   \u001b[0m   File \"<string>\", line 2, in <module>\n",
            "  \u001b[31m   \u001b[0m   File \"<pip-setuptools-caller>\", line 34, in <module>\n",
            "  \u001b[31m   \u001b[0m   File \"/tmp/pip-install-4r4p9ff_/dotenv_fe6e0baa12464c9486aeb93da1904a7a/setup.py\", line 13, in <module>\n",
            "  \u001b[31m   \u001b[0m     setup(name='dotenv',\n",
            "  \u001b[31m   \u001b[0m   File \"/usr/lib/python3/dist-packages/setuptools/__init__.py\", line 152, in setup\n",
            "  \u001b[31m   \u001b[0m     _install_setup_requires(attrs)\n",
            "  \u001b[31m   \u001b[0m   File \"/usr/lib/python3/dist-packages/setuptools/__init__.py\", line 147, in _install_setup_requires\n",
            "  \u001b[31m   \u001b[0m     dist.fetch_build_eggs(dist.setup_requires)\n",
            "  \u001b[31m   \u001b[0m   File \"/usr/lib/python3/dist-packages/setuptools/dist.py\", line 812, in fetch_build_eggs\n",
            "  \u001b[31m   \u001b[0m     resolved_dists = pkg_resources.working_set.resolve(\n",
            "  \u001b[31m   \u001b[0m   File \"/usr/lib/python3/dist-packages/pkg_resources/__init__.py\", line 771, in resolve\n",
            "  \u001b[31m   \u001b[0m     dist = best[req.key] = env.best_match(\n",
            "  \u001b[31m   \u001b[0m   File \"/usr/lib/python3/dist-packages/pkg_resources/__init__.py\", line 1056, in best_match\n",
            "  \u001b[31m   \u001b[0m     return self.obtain(req, installer)\n",
            "  \u001b[31m   \u001b[0m   File \"/usr/lib/python3/dist-packages/pkg_resources/__init__.py\", line 1068, in obtain\n",
            "  \u001b[31m   \u001b[0m     return installer(requirement)\n",
            "  \u001b[31m   \u001b[0m   File \"/usr/lib/python3/dist-packages/setuptools/dist.py\", line 883, in fetch_build_egg\n",
            "  \u001b[31m   \u001b[0m     return fetch_build_egg(self, req)\n",
            "  \u001b[31m   \u001b[0m   File \"/usr/lib/python3/dist-packages/setuptools/installer.py\", line 84, in fetch_build_egg\n",
            "  \u001b[31m   \u001b[0m     raise DistutilsError(str(e)) from e\n",
            "  \u001b[31m   \u001b[0m distutils.errors.DistutilsError: Command '['/usr/bin/python3', '-m', 'pip', '--disable-pip-version-check', 'wheel', '--no-deps', '-w', '/tmp/tmpvgd82n53', '--quiet', 'distribute']' returned non-zero exit status 1.\n",
            "  \u001b[31m   \u001b[0m \u001b[31m[end of output]\u001b[0m\n",
            "  \n",
            "  \u001b[1;35mnote\u001b[0m: This error originates from a subprocess, and is likely not a problem with pip.\n",
            "\u001b[?25h\u001b[1;31merror\u001b[0m: \u001b[1mmetadata-generation-failed\u001b[0m\n",
            "\n",
            "\u001b[31m×\u001b[0m Encountered error while generating package metadata.\n",
            "\u001b[31m╰─>\u001b[0m See above for output.\n",
            "\n",
            "\u001b[1;35mnote\u001b[0m: This is an issue with the package mentioned above, not pip.\n",
            "\u001b[1;36mhint\u001b[0m: See above for details.\n"
          ]
        }
      ],
      "source": [
        "! pip install langchain==0.2.7 langchain_aws langchain-community langchain_core boto3 botocore\n",
        "! pip install dotenv"
      ]
    },
    {
      "cell_type": "code",
      "execution_count": 6,
      "metadata": {},
      "outputs": [
        {
          "name": "stdout",
          "output_type": "stream",
          "text": [
            "Defaulting to user installation because normal site-packages is not writeable\n",
            "Requirement already satisfied: pymupdf in /home/vpuzio/.local/lib/python3.10/site-packages (1.25.3)\n",
            "Requirement already satisfied: python-docx in /home/vpuzio/.local/lib/python3.10/site-packages (1.1.2)\n",
            "Requirement already satisfied: pydantic in /home/vpuzio/.local/lib/python3.10/site-packages (2.6.3)\n",
            "Requirement already satisfied: typing-extensions>=4.9.0 in /home/vpuzio/.local/lib/python3.10/site-packages (from python-docx) (4.12.2)\n",
            "Requirement already satisfied: lxml>=3.1.0 in /home/vpuzio/.local/lib/python3.10/site-packages (from python-docx) (5.3.0)\n",
            "Requirement already satisfied: annotated-types>=0.4.0 in /home/vpuzio/.local/lib/python3.10/site-packages (from pydantic) (0.6.0)\n",
            "Requirement already satisfied: pydantic-core==2.16.3 in /home/vpuzio/.local/lib/python3.10/site-packages (from pydantic) (2.16.3)\n"
          ]
        }
      ],
      "source": [
        "! pip install pymupdf python-docx pydantic"
      ]
    },
    {
      "cell_type": "code",
      "execution_count": 7,
      "metadata": {
        "colab": {
          "base_uri": "https://localhost:8080/",
          "height": 350
        },
        "id": "ycTC4Sb9vYg8",
        "outputId": "25388e7f-23d0-4505-a035-c0807397f0a2"
      },
      "outputs": [],
      "source": [
        "from dotenv import load_dotenv\n",
        "load_dotenv()\n",
        "import os"
      ]
    },
    {
      "cell_type": "markdown",
      "metadata": {
        "id": "_qsDG8NVvYg8"
      },
      "source": [
        "### llm endpoints (to edit)"
      ]
    },
    {
      "cell_type": "code",
      "execution_count": 8,
      "metadata": {
        "id": "H4IQaOfDvYg9"
      },
      "outputs": [],
      "source": [
        "from langchain.prompts import PromptTemplate\n",
        "from langchain_core.output_parsers import StrOutputParser"
      ]
    },
    {
      "cell_type": "code",
      "execution_count": 9,
      "metadata": {},
      "outputs": [
        {
          "name": "stdout",
          "output_type": "stream",
          "text": [
            "Defaulting to user installation because normal site-packages is not writeable\n",
            "Requirement already satisfied: anthropic in /home/vpuzio/.local/lib/python3.10/site-packages (0.45.2)\n",
            "\u001b[31mERROR: Could not find a version that satisfies the requirement typi (from versions: none)\u001b[0m\u001b[31m\n",
            "\u001b[0m\u001b[31mERROR: No matching distribution found for typi\u001b[0m\u001b[31m\n",
            "\u001b[0m"
          ]
        }
      ],
      "source": [
        "! pip install anthropic typi"
      ]
    },
    {
      "cell_type": "code",
      "execution_count": 16,
      "metadata": {},
      "outputs": [],
      "source": [
        "# ! pip install  typing_extensions==4.12.2"
      ]
    },
    {
      "cell_type": "code",
      "execution_count": 31,
      "metadata": {
        "id": "S4PibKiWvYg-"
      },
      "outputs": [],
      "source": [
        "import boto3\n",
        "from langchain_aws import ChatBedrock\n",
        "from botocore.config import Config\n",
        "import urllib3\n",
        "import os \n",
        "urllib3.disable_warnings(urllib3.exceptions.InsecureRequestWarning)\n",
        "# from anthropic import AsyncAnthropicBedrock\n",
        "\n",
        "bedrock_client = boto3.client(\n",
        "        service_name='bedrock-runtime',\n",
        "        region_name='eu-west-1',\n",
        "        aws_access_key_id=os.getenv('AWS_ACCESS_KEY_ID'),\n",
        "        aws_secret_access_key=os.getenv('AWS_SECRET_ACCESS_KEY'),\n",
        "        verify=False,  # Disable SSL verification\n",
        "        config=Config(\n",
        "            proxies={'https': None}\n",
        "        )\n",
        "    )\n",
        "# client = AsyncAnthropicBedrock(\n",
        "#             aws_access_key=os.getenv(\"AWS_ACCESS_KEY_ID\"),\n",
        "#             aws_secret_key=os.getenv(\"AWS_SECRET_ACCESS_KEY\"),\n",
        "#             aws_region=\"eu-central-1\",\n",
        "#         )\n",
        "llm = ChatBedrock(\n",
        "        model_id=\"anthropic.claude-3-haiku-20240307-v1:0\",\n",
        "        # model_id=\"anthropic.claude-3-5-sonnet-20240620-v1:0\",\n",
        "        #client=bedrock_client,\n",
        "        client=bedrock_client,\n",
        "        model_kwargs={\n",
        "            \"temperature\": 0,\n",
        "            \"max_tokens\": 2000,\n",
        "        }\n",
        "    )\n"
      ]
    },
    {
      "cell_type": "code",
      "execution_count": 17,
      "metadata": {},
      "outputs": [],
      "source": [
        "import fitz  # PyMuPDF\n",
        "import docx\n",
        "\n",
        "def read_pdf(file_path):\n",
        "    doc = fitz.open(file_path)\n",
        "    text = \"\\n\".join([page.get_text(\"text\") for page in doc])\n",
        "    return text\n",
        "\n",
        "def read_docx(file_path):\n",
        "    doc = docx.Document(file_path)\n",
        "    text = \"\\n\".join([p.text for p in doc.paragraphs])\n",
        "    return text\n",
        "\n",
        "def read_txt(file_path):\n",
        "    with open(file_path, \"r\") as f:\n",
        "        text = f.read()\n",
        "    return text\n",
        "\n"
      ]
    },
    {
      "cell_type": "code",
      "execution_count": 29,
      "metadata": {
        "id": "SGpZy-BWvYhA"
      },
      "outputs": [],
      "source": [
        "def riassumi(chunk):\n",
        "\n",
        "    prompt_template = PromptTemplate(\n",
        "        input_variables=[\"chunk\"],\n",
        "        template=\"\"\"\n",
        "            Riassumi il seguente testo mantenendo le informazioni chiave:\\n\\n{chunk}\n",
        "        \"\"\"\n",
        "    )\n",
        "\n",
        "    chain = prompt_template | llm | StrOutputParser()\n",
        "\n",
        "    response = chain.invoke({\"chunk\": chunk})\n",
        "    return response\n"
      ]
    },
    {
      "cell_type": "code",
      "execution_count": 23,
      "metadata": {
        "id": "X-oF-QT1vYhB"
      },
      "outputs": [
        {
          "name": "stdout",
          "output_type": "stream",
          "text": [
            "6\n"
          ]
        }
      ],
      "source": [
        "from langchain.text_splitter import RecursiveCharacterTextSplitter\n",
        "file_path = \"docs/commedia.txt\"  # Se è nella stessa cartella del notebook\n",
        "\n",
        "text = read_txt(file_path)\n",
        "\n",
        "text_splitter = RecursiveCharacterTextSplitter(chunk_size=100000, chunk_overlap=500)\n",
        "chunks = text_splitter.split_text(text)\n",
        "\n",
        "print(len(chunks))\n",
        "    "
      ]
    },
    {
      "cell_type": "code",
      "execution_count": null,
      "metadata": {},
      "outputs": [],
      "source": [
        "summaries = []\n",
        "for chunk in chunks:\n",
        "    response = riassumi(chunk)\n",
        "    summaries.append(response)\n"
      ]
    },
    {
      "cell_type": "code",
      "execution_count": 35,
      "metadata": {
        "id": "oGxg_16ivYhB",
        "outputId": "09af6af5-77d2-49f2-b87e-18f106e2d98f"
      },
      "outputs": [
        {
          "data": {
            "text/markdown": [
              "### Riassunto:\n",
              "\n",
              "Ecco un riassunto dei principali eventi dei Canti I-XX dell'Inferno di Dante Alighieri:\n",
              "\n",
              "Canto I: Dante si ritrova in una selva oscura e smarrita. Incontra Virgilio, che gli si offre come guida per attraversare l'Inferno e raggiungere il Paradiso.\n",
              "\n",
              "Canto II: Beatrice, donna amata da Dante, invia Virgilio a soccorrere Dante, che è smarrito. Virgilio accetta di guidarlo.\n",
              "\n",
              "Canto III: Dante e Virgilio giungono all'ingresso dell'Inferno, dove leggono l'iscrizione che annuncia la condanna eterna per chi entra. Entrano nell'Inferno.\n",
              "\n",
              "Canto IV: Dante e Virgilio giungono nel Limbo, dove si trovano i grandi spiriti dell'antichità, non battezzati. Incontrano Omero, Orazio, Ovidio e Lucano.\n",
              "\n",
              "Canto V: Dante e Virgilio giungono nel secondo cerchio, dove sono puniti i lussuriosi. Incontrano Francesca da Rimini e Paolo, che raccontano la loro storia.\n",
              "\n",
              "Canto VI: Dante e Virgilio giungono nel terzo cerchio, dove sono puniti i golosi. Incontrano Ciacco, che profetizza le lotte future a Firenze.\n",
              "\n",
              "Canto VII: Dante e Virgilio giungono nel quarto cerchio, dove sono puniti gli avari e i prodighi. Incontrano Pluto, il dio della ricchezza.\n",
              "\n",
              "Canto VIII: Dante e Virgilio giungono al fiume Stige, dove sono puniti gli iracondi e gli accidiosi. Incontrano Filippo Argenti, un fiorentino violento.\n",
              "\n",
              "Canto IX: Dante e Virgilio giungono alle mura della città di Dite, ma i demoni ne impediscono l'ingresso. Virgilio rassicura Dante.\n",
              "\n",
              "Canto X: Dante e Virgilio entrano nella città di Dite, dove sono puniti gli eretici. Incontrano Farinata degli Uberti e altri personaggi.\n",
              "\n",
              "Canto XI: Virgilio spiega a Dante la struttura dell'Inferno e la suddivisione dei peccati.\n",
              "\n",
              "Canto XII: Dante e Virgilio giungono nel settimo cerchio, dove sono puniti i violenti. Incontrano il Minotauro e i centauri.\n",
              "\n",
              "Canto XIII: Dante e Virgilio entrano nel secondo girone del settimo cerchio, dove sono puniti i suicidi. Incontrano uno spirito che si lamenta di essere stato violento contro sé stesso.\n",
              "\n",
              "Canto XIV: Dante e Virgilio giungono al terzo girone del settimo cerchio, dove sono puniti i bestemmiatori. Incontrano Capaneo, un re che sfidò gli dei.\n",
              "\n",
              "Canto XV: Dante incontra il suo maestro Brunetto Latini, condannato per sodomia. Brunetto gli dà consigli per il suo futuro.\n",
              "\n",
              "Canto XVI: Dante incontra tre fiorentini illustri, condannati per violenza. Essi lo esortano a ricordare la loro fama.\n",
              "\n",
              "Canto XVII: Dante e Virgilio incontrano Gerione, mostro simbolo della frode, che li trasporta sul fondo dell'Inferno.\n",
              "\n",
              "Canto XVIII: Dante e Virgilio giungono nell'ottava bolgia, dove sono puniti i seduttori e i ruffiani. Incontrano Venedico Caccianemico.\n",
              "\n",
              "Canto XIX: Dante e Virgilio giungono nella terza bolgia, dove sono puniti i simoniaci. Incontrano Papa Bonifacio VIII, condannato per simonia.\n",
              "\n",
              "Canto XX: Dante e Virgilio giungono nella quarta bolgia, dove sono puniti gli indovini, i maghi e gli stregoni. Incontrano Tiresia e Anfiarao.\n",
              "Ecco un riassunto del Canto IV del Purgatorio di Dante Alighieri:\n",
              "\n",
              "- Dante e Virgilio riprendono il cammino verso il monte del Purgatorio. Dante è preoccupato di non essere in grado di salire, ma Virgilio lo rassicura.\n",
              "\n",
              "- Incontrano un gruppo di anime che si muovono lentamente verso di loro. Virgilio chiede loro indicazioni per salire il monte. Le anime si fermano e una di loro, Manfredi, si rivolge a Dante.\n",
              "\n",
              "- Manfredi racconta la sua storia: era nipote dell'imperatrice Costanza, ma morì scomunicato dalla Chiesa. Nonostante i suoi gravi peccati, la bontà divina lo ha accolto nel Purgatorio, dove sta espiando le sue colpe. \n",
              "\n",
              "- Manfredi chiede a Dante di andare dalla sua bella figlia e di dirle la verità sulla sua morte, smentendo le voci che circolano. Inoltre, spiega che le anime scomunicate devono attendere 30 anni prima di poter entrare nel Purgatorio.\n",
              "\n",
              "- Manfredi invita Dante a pregare per lui, così da accorciare il suo tempo di espiazione. Poi Dante e Virgilio riprendono il cammino verso la montagna.\n",
              "\n",
              "In sintesi, il canto presenta l'incontro con l'anima di Manfredi, che racconta la sua storia e chiede a Dante di riferire notizie alla sua famiglia, sottolineando il tema della misericordia divina e della necessità di espiare le proprie colpe.\n",
              "Ecco un riassunto del Canto XXII del Purgatorio di Dante:\n",
              "\n",
              "Il Canto inizia con Dante e Virgilio che continuano il loro cammino sul monte del Purgatorio. Incontrano un'anima che si presenta come Stazio, il poeta latino che ha scritto l'Eneide e la Tebaide. Stazio racconta di essere stato un pagano convertito al cristianesimo grazie alla lettura dell'Eneide di Virgilio. Virgilio era infatti il suo maestro e la sua guida poetica. \n",
              "\n",
              "Stazio spiega che il tremore del monte e le voci di lode a Dio che hanno sentito sono segno della purificazione di un'anima che sta per raggiungere il Paradiso. Egli stesso ha appena provato questa liberazione dalla pena dell'avarizia dopo essere rimasto lì per oltre cinquecento anni.\n",
              "\n",
              "Stazio rivela inoltre di essere stato un grande poeta ai suoi tempi, famoso a Roma, ma senza ancora la vera fede cristiana. Dante si rallegra di incontrare il suo illustre predecessore e maestro, e Stazio ricambia l'affetto, essendo stato ispirato dalla lettura dell'Eneide di Virgilio.\n",
              "\n",
              "Virgilio, vedendo l'emozione di Dante, lo invita a parlare liberamente con Stazio. Dante allora spiega a Stazio che il suo sorriso era dovuto alla meraviglia di vedere il suo maestro Virgilio, di cui Stazio era stato a sua volta discepolo. Stazio è commosso da questo legame e si alza per abbracciare Virgilio, ma Virgilio lo ferma ricordandogli che essendo ombre non possono toccarsi.\n",
              "\n",
              "Così i tre poeti proseguono insieme il loro cammino sul monte del Purgatorio.\n",
              "Ecco un riassunto dei principali contenuti del Canto VII del Paradiso di Dante Alighieri:\n",
              "\n",
              "- Giustiniano spiega a Dante il suo ruolo di imperatore e legislatore, e come abbia contribuito a diffondere la vera fede cristiana.\n",
              "\n",
              "- Giustiniano racconta le imprese dell'aquila romana, simbolo dell'Impero, e come essa abbia dominato il mondo per secoli, fino ai tempi di Cesare.\n",
              "\n",
              "- Giustiniano sottolinea la grandezza e la sacralità dell'Impero romano, che ha svolto un ruolo provvidenziale nella storia dell'umanità.\n",
              "\n",
              "- Egli critica coloro che si oppongono all'aquila imperiale, come i Ghibellini, e invita i Guelfi a non combatterla, perché ciò andrebbe contro la volontà di Dio.\n",
              "\n",
              "- Giustiniano parla poi di Romeo, un umile e giusto uomo che servì fedelmente il conte di Provenza, ma fu poi ingiustamente accusato e costretto a vivere in povertà.\n",
              "\n",
              "- Questo episodio dimostra come spesso il bene fatto agli altri non venga riconosciuto e apprezzato, ma anzi sia motivo di invidia e di danno per chi lo compie.\n",
              "\n",
              "In sintesi, il canto approfondisce il tema dell'Impero romano come strumento della Provvidenza divina, e affronta il problema della giustizia umana, spesso distorta dalle passioni e dagli interessi personali.\n",
              "Ecco un riassunto delle informazioni chiave contenute nei canti VII-XXV del Paradiso:\n",
              "\n",
              "Canto VII: Beatrice spiega a Dante il mistero della redenzione umana, spiegando come il peccato di Adamo fu giustamente punito sulla croce di Cristo.\n",
              "\n",
              "Canto VIII: Dante incontra l'anima di Cunizza da Romano, che gli rivela il futuro di alcune città italiane. Poi incontra l'anima di Folco di Marsiglia.\n",
              "\n",
              "Canto IX: Dante incontra l'anima di Cacciaguida, suo antenato, che gli racconta della Firenze del suo tempo, più semplice e virtuosa.\n",
              "\n",
              "Canto X: Dante contempla la bellezza della Trinità e la gerarchia degli spiriti beati. Cacciaguida gli spiega la predestinazione divina.\n",
              "\n",
              "Canto XI: Cacciaguida parla di San Francesco d'Assisi e del declino dell'ordine francescano.\n",
              "\n",
              "Canto XII: Dante incontra le anime di altri santi, come San Domenico e San Tommaso d'Aquino, che gli spiegano la gloria del paradiso.\n",
              "\n",
              "Canto XIII-XIV: Dante riceve ulteriori spiegazioni sulla predestinazione e sulla gloria del paradiso.\n",
              "\n",
              "Canto XV-XVI: Cacciaguida continua a raccontare a Dante della Firenze del suo tempo, più semplice e virtuosa rispetto a quella corrotta del presente.\n",
              "\n",
              "Canto XVII: Cacciaguida profetizza a Dante l'esilio e le sofferenze che lo attendono.\n",
              "\n",
              "Canto XVIII-XIX: Dante riceve ulteriori spiegazioni sulla fede e sulla giustizia divina da parte di un'altra anima beata.\n",
              "\n",
              "Canto XX-XXI: Dante contempla la bellezza del paradiso e la gloria di Dio.\n",
              "\n",
              "Canto XXII-XXIII: Dante sale sempre più in alto nel paradiso, ammirando la bellezza e la luce divina.\n",
              "\n",
              "Canto XXIV: Dante viene interrogato sulla fede da un'anima beata, dimostrando la sua profonda convinzione.\n",
              "\n",
              "Canto XXV: Dante viene benedetto dall'apostolo San Giacomo per la sua fede.\n",
              "Ecco un riassunto delle informazioni chiave contenute nei tre canti del Paradiso:\n",
              "\n",
              "Canto XXV:\n",
              "- Il poeta desidera tornare a scrivere poesia dopo aver affrontato il \"bello ovile\" (la Chiesa) \n",
              "- Appare una luce che rappresenta San Giacomo, patrono di Compostela\n",
              "- Il poeta è interrogato sulla speranza, che definisce come \"attender certo della gloria futura\"\n",
              "\n",
              "Canto XXVI: \n",
              "- Il poeta spiega come l'amore per Dio sia fondato sulla conoscenza della sua bontà e perfezione\n",
              "- Vengono descritti gli ordini angelici, dalla più alta gerarchia (Serafini e Cherubini) a quella più bassa\n",
              "- Si chiarisce che i bambini morti senza battesimo sono comunque accolti in Paradiso\n",
              "\n",
              "Canto XXVII:\n",
              "- Il poeta descrive la visione della Trinità, rappresentata da tre cerchi di luce\n",
              "- Beatrice spiega come la Chiesa sia stata corrotta dalla cupidigia e dal potere temporale\n",
              "- Si profetizza l'avvento di un imperatore (Enrico VII) che riporterà l'ordine nella Chiesa\n",
              "\n",
              "In sintesi, i canti trattano della poesia, della teologia della speranza e della Trinità, nonché della critica alla corruzione della Chiesa."
            ],
            "text/plain": [
              "<IPython.core.display.Markdown object>"
            ]
          },
          "metadata": {},
          "output_type": "display_data"
        }
      ],
      "source": [
        "from IPython.display import display, Markdown\n",
        "\n",
        "summary = \"\\n\".join(summaries)\n",
        "\n",
        "display(Markdown(f\"### Riassunto:\\n\\n{summary}\"))\n",
        "    "
      ]
    },
    {
      "cell_type": "code",
      "execution_count": 42,
      "metadata": {},
      "outputs": [
        {
          "name": "stdout",
          "output_type": "stream",
          "text": [
            "Purtroppo non ho trovato una corrispondenza semantica diretta alla richiesta dell'utente \"che ha fatto il conte ugolino?\" all'interno del testo fornito. Il testo è tratto dalla Divina Commedia di Dante Alighieri e non contiene informazioni sul Conte Ugolino.\n",
            "Sì, ho trovato una corrispondenza semantica alla richiesta dell'utente. Ecco la risposta e il paragrafo corrispondente:\n",
            "\n",
            "Il conte Ugolino ha fatto il seguente:\n",
            "- È stato rinchiuso nella torre della fame a Pisa insieme ai suoi figli e nipoti, dove sono morti di fame. \n",
            "- È stato tradito dall'arcivescovo Ruggieri, che lo ha fatto imprigionare e morire di fame.\n",
            "\n",
            "Questo è descritto nel Canto XXXIII del Purgatorio:\n",
            "\n",
            "\"Io fui d'Arezzo, e Albero da Siena\",\n",
            "rispuose l'un, \"mi fé mettere al foco;\n",
            "ma quel per ch'io mori' qui non mi mena.\n",
            "Vero è ch'i' dissi lui, parlando a gioco:\n",
            "\"I' mi saprei levar per l'aere a volo\";\n",
            "e quei, ch'avea vaghezza e senno poco,\n",
            "volle ch'i' li mostrassi l'arte; e solo\n",
            "perch'io nol feci Dedalo, mi fece\n",
            "ardere a tal che l'avea per figliuolo.\n",
            "Ma nell 'ultima bolgia de le diece\n",
            "me per l'alchìmia che nel mondo usai\n",
            "dannò Minòs, a cui fallar non lece\".\n",
            "\n",
            "E io dissi al poeta: \"Or fu già mai\n",
            "gente sì vana come la sanese?\n",
            "Certo non la francesca sì d'assai!\".\n",
            "\n",
            "Onde l'altro lebbroso, che m'intese,\n",
            "rispuose al detto mio: \"Tra'mene Stricca\n",
            "che seppe far le temperate spese,\n",
            "e Niccolò che la costuma ricca\n",
            "del garofano prima discoverse\n",
            "ne l'orto dove tal seme s'appicca;\n",
            "e tra'ne la brigata in che disperse\n",
            "Caccia d'Ascian la vigna e la gran fonda,\n",
            "e l'Abbagliato suo senno proferse.\n",
            "Ma perché sappi chi sì ti seconda\n",
            "contra i Sanesi, aguzza ver me l'occhio,\n",
            "sì che la faccia mia ben ti risponda:\n",
            "sì vedrai ch'io son l'ombra di Capocchio,\n",
            "che falsai li metalli con l'alchìmia;\n",
            "e te dee ricordar, se ben t'adocchio,\n",
            "com'io fui di natura buona scimia\".\n",
            "Purtroppo non ho trovato una corrispondenza semantica diretta alla richiesta dell'utente \"che ha fatto il conte ugolino?\" nel testo fornito. Il testo non contiene informazioni sul Conte Ugolino.\n",
            "Sembra che il conte Ugolino non sia menzionato in questo testo del Purgatorio di Dante. Il testo parla di altri personaggi e argomenti, come Piccarda Donati, Costanza, Giustiniano, l'aquila romana, e il personaggio di Romeo. Non c'è alcun riferimento al conte Ugolino.\n",
            "Dalla lettura del testo, non ho trovato una corrispondenza diretta alla richiesta dell'utente \"che ha fatto il conte ugolino?\". Il testo non contiene informazioni sul Conte Ugolino.\n",
            "Dalla lettura del testo, non ho trovato una corrispondenza diretta alla richiesta dell'utente \"che ha fatto il conte ugolino?\". Il testo è tratto dal Paradiso di Dante e non contiene informazioni sul Conte Ugolino. Quindi non posso fornire una risposta a questa domanda.\n"
          ]
        }
      ],
      "source": [
        "\n",
        "def cerca(chunk, query):\n",
        "\n",
        "    prompt_template = PromptTemplate(\n",
        "        input_variables=[\"chunk\", \"query\"],\n",
        "        template=\"\"\"\n",
        "            Rispondi alla richiesta dell'utente in base al chunk in input:\\n\\n\n",
        "            <query>\n",
        "            {query}\n",
        "            </query>\n",
        "            \n",
        "            <testo>\n",
        "            {chunk}\n",
        "            </testo>\n",
        "            \n",
        "            ISTRUZIONI: \n",
        "            se trovi una corrispondenza semantica alla richiesta dell'utente, scrivi la risposta. altrimenti non rispondere\n",
        "            ritorna anche il paragrafo dove hai trovato la risposta\n",
        "        \"\"\"\n",
        "    )\n",
        "\n",
        "    chain = prompt_template | llm | StrOutputParser()\n",
        "\n",
        "    response = chain.invoke({\"chunk\": chunk, \"query\": query})\n",
        "    return response\n",
        "\n",
        "for chunk in chunks:\n",
        "    response = cerca(chunk, \"che ha fatto il conte ugolino?\")\n",
        "    print(response)\n",
        "    "
      ]
    },
    {
      "cell_type": "markdown",
      "metadata": {},
      "source": [
        "Leggere documento in input\n",
        "summarization semplice con documento piccolo (fanno loro)\n",
        "\n",
        "Si tenta di fare summarization di doc troppo grande (es. promessi sposi) - schiatta\n",
        "\n",
        "Splitter\n",
        "\n",
        "Demo: riassunto e riassunto dei riassunti\n",
        "\n",
        "per ogni chunk:\n",
        "- eseguire ricerca, ad esempio \"chi è l'amata di Dante\"\n",
        "- l'output della ricerca va in una struttura: (trovato, risposta, paragrafo_corrispondenza)\n",
        "- se trovata corrispondenza, stampa\n",
        "\n",
        "risposta: beatrice è l'amata di Dante\n",
        "contesto: versi in cui si cita beatrice\n",
        "trovato: true\n",
        "\n",
        "PRO e CONTRO:\n",
        "- semplice\n",
        "\n",
        "- costi e prestazioni\n",
        "\n",
        "alternativa: RAG"
      ]
    }
  ],
  "metadata": {
    "colab": {
      "provenance": []
    },
    "kernelspec": {
      "display_name": "Python 3",
      "language": "python",
      "name": "python3"
    },
    "language_info": {
      "codemirror_mode": {
        "name": "ipython",
        "version": 3
      },
      "file_extension": ".py",
      "mimetype": "text/x-python",
      "name": "python",
      "nbconvert_exporter": "python",
      "pygments_lexer": "ipython3",
      "version": "3.10.12"
    }
  },
  "nbformat": 4,
  "nbformat_minor": 0
}
