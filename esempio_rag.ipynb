{
  "nbformat": 4,
  "nbformat_minor": 0,
  "metadata": {
    "colab": {
      "provenance": [],
      "authorship_tag": "ABX9TyPNKnGuU+I1Gcqp4FK7C2w0",
      "include_colab_link": true
    },
    "kernelspec": {
      "name": "python3",
      "display_name": "Python 3"
    },
    "language_info": {
      "name": "python"
    }
  },
  "cells": [
    {
      "cell_type": "markdown",
      "metadata": {
        "id": "view-in-github",
        "colab_type": "text"
      },
      "source": [
        "<a href=\"https://colab.research.google.com/github/vpuzio-deloitte/digita/blob/main/esempio_rag.ipynb\" target=\"_parent\"><img src=\"https://colab.research.google.com/assets/colab-badge.svg\" alt=\"Open In Colab\"/></a>"
      ]
    },
    {
      "cell_type": "code",
      "source": [
        "! pip install langchain_core langchain_google_genai boto3 botocore langchain_aws python-docx PyMuPDF langchain_community chromadb"
      ],
      "metadata": {
        "id": "IOzj0ZkF9UM3"
      },
      "execution_count": null,
      "outputs": []
    },
    {
      "cell_type": "markdown",
      "source": [
        "## Init LLM"
      ],
      "metadata": {
        "id": "WY-IV-0FTSC0"
      }
    },
    {
      "cell_type": "code",
      "source": [
        "import boto3\n",
        "from langchain_aws import ChatBedrock\n",
        "from botocore.config import Config\n",
        "import urllib3\n",
        "from langchain.prompts import PromptTemplate\n",
        "from langchain_core.output_parsers import StrOutputParser\n",
        "import os\n",
        "from google.colab import userdata\n",
        "urllib3.disable_warnings(urllib3.exceptions.InsecureRequestWarning)\n",
        "\n",
        "bedrock_client = boto3.client(\n",
        "        service_name='bedrock-runtime',\n",
        "        region_name='eu-west-1',\n",
        "        aws_access_key_id=userdata.get('AWS_ACCESS_KEY_ID'),\n",
        "        aws_secret_access_key=userdata.get('AWS_SECRET_ACCESS_KEY'),\n",
        "        verify=False,  # Disable SSL verification\n",
        "        config=Config(\n",
        "            proxies={'https': None}\n",
        "        )\n",
        "    )\n",
        "\n",
        "llm_bedrock = ChatBedrock(\n",
        "        model_id=\"anthropic.claude-3-haiku-20240307-v1:0\",\n",
        "        client=bedrock_client,\n",
        "        model_kwargs={\n",
        "            \"temperature\": 0,\n",
        "            \"max_tokens\": 2000,\n",
        "        }\n",
        "    )"
      ],
      "metadata": {
        "id": "xeef4uL_9ajX"
      },
      "execution_count": 19,
      "outputs": []
    },
    {
      "cell_type": "markdown",
      "source": [
        "## Utilities"
      ],
      "metadata": {
        "id": "B_HJWOq2TNQx"
      }
    },
    {
      "cell_type": "code",
      "source": [
        "import fitz  # PyMuPDF\n",
        "import docx\n",
        "\n",
        "from google.colab import files\n",
        "\n",
        "def upload_file():\n",
        "  uploaded = files.upload()\n",
        "  # Una volta eseguita questa cella, Colab ti chiederà di selezionare il file dal tuo PC.\n",
        "\n",
        "  # 2) Identifica il nome del file caricato\n",
        "  for file_name in uploaded.keys():\n",
        "      file_path = file_name\n",
        "\n",
        "  return file_path\n",
        "\n",
        "def read_pdf(file_path):\n",
        "    doc = fitz.open(file_path)\n",
        "    text = \"\\n\".join([page.get_text(\"text\") for page in doc])\n",
        "    return text\n",
        "\n",
        "def read_docx(file_path):\n",
        "    doc = docx.Document(file_path)\n",
        "    text = \"\\n\".join([p.text for p in doc.paragraphs])\n",
        "    return text\n",
        "\n",
        "def read_txt(file_path):\n",
        "    with open(file_path, \"r\") as f:\n",
        "        text = f.read()\n",
        "    return text\n",
        "\n",
        "def upload_and_read_pdf():\n",
        "    file_path = upload_file()\n",
        "\n",
        "    return read_pdf(file_path)\n",
        "\n",
        "def upload_and_read_docx():\n",
        "    file_path = upload_file()\n",
        "\n",
        "    return read_docx(file_path)\n",
        "\n",
        "def upload_and_read_txt():\n",
        "    file_path = upload_file()\n",
        "\n",
        "    return read_txt(file_path)"
      ],
      "metadata": {
        "id": "Aj0EzOCF-Pp7"
      },
      "execution_count": 20,
      "outputs": []
    },
    {
      "cell_type": "markdown",
      "source": [
        "## Upload file and split"
      ],
      "metadata": {
        "id": "ZeyeaswrTWmg"
      }
    },
    {
      "cell_type": "code",
      "source": [
        "from langchain.docstore.document import Document\n",
        "from langchain.text_splitter import RecursiveCharacterTextSplitter\n",
        "\n",
        "# 1. Carica il contenuto dal file (es. \"faq.txt\")\n",
        "text = upload_and_read_txt()\n",
        "\n",
        "# 2. Chunkizza il testo per paragrafo\n",
        "#    Si assume che i paragrafi siano separati da due newline (\"\\n\\n\")\n",
        "text_splitter = RecursiveCharacterTextSplitter(\n",
        "    separators=[\"\\n\\n\", \"\\n\", \" \"],\n",
        "    chunk_size=500,     # Dimensione massima di ciascun chunk\n",
        "    chunk_overlap=50    # Sovrapposizione tra chunk per mantenere il contesto\n",
        ")\n",
        "chunks = text_splitter.split_text(text)\n",
        "\n",
        "# Trasforma ciascun chunk in un oggetto Document\n",
        "documents = [Document(page_content=chunk) for chunk in chunks]\n"
      ],
      "metadata": {
        "colab": {
          "base_uri": "https://localhost:8080/",
          "height": 73
        },
        "id": "r_iFdMBnCAdR",
        "outputId": "e783fb91-f575-4706-831b-3d7fb9b9042b"
      },
      "execution_count": 7,
      "outputs": [
        {
          "output_type": "display_data",
          "data": {
            "text/plain": [
              "<IPython.core.display.HTML object>"
            ],
            "text/html": [
              "\n",
              "     <input type=\"file\" id=\"files-44c5987f-f32c-4b36-95af-2f1a8708a5f9\" name=\"files[]\" multiple disabled\n",
              "        style=\"border:none\" />\n",
              "     <output id=\"result-44c5987f-f32c-4b36-95af-2f1a8708a5f9\">\n",
              "      Upload widget is only available when the cell has been executed in the\n",
              "      current browser session. Please rerun this cell to enable.\n",
              "      </output>\n",
              "      <script>// Copyright 2017 Google LLC\n",
              "//\n",
              "// Licensed under the Apache License, Version 2.0 (the \"License\");\n",
              "// you may not use this file except in compliance with the License.\n",
              "// You may obtain a copy of the License at\n",
              "//\n",
              "//      http://www.apache.org/licenses/LICENSE-2.0\n",
              "//\n",
              "// Unless required by applicable law or agreed to in writing, software\n",
              "// distributed under the License is distributed on an \"AS IS\" BASIS,\n",
              "// WITHOUT WARRANTIES OR CONDITIONS OF ANY KIND, either express or implied.\n",
              "// See the License for the specific language governing permissions and\n",
              "// limitations under the License.\n",
              "\n",
              "/**\n",
              " * @fileoverview Helpers for google.colab Python module.\n",
              " */\n",
              "(function(scope) {\n",
              "function span(text, styleAttributes = {}) {\n",
              "  const element = document.createElement('span');\n",
              "  element.textContent = text;\n",
              "  for (const key of Object.keys(styleAttributes)) {\n",
              "    element.style[key] = styleAttributes[key];\n",
              "  }\n",
              "  return element;\n",
              "}\n",
              "\n",
              "// Max number of bytes which will be uploaded at a time.\n",
              "const MAX_PAYLOAD_SIZE = 100 * 1024;\n",
              "\n",
              "function _uploadFiles(inputId, outputId) {\n",
              "  const steps = uploadFilesStep(inputId, outputId);\n",
              "  const outputElement = document.getElementById(outputId);\n",
              "  // Cache steps on the outputElement to make it available for the next call\n",
              "  // to uploadFilesContinue from Python.\n",
              "  outputElement.steps = steps;\n",
              "\n",
              "  return _uploadFilesContinue(outputId);\n",
              "}\n",
              "\n",
              "// This is roughly an async generator (not supported in the browser yet),\n",
              "// where there are multiple asynchronous steps and the Python side is going\n",
              "// to poll for completion of each step.\n",
              "// This uses a Promise to block the python side on completion of each step,\n",
              "// then passes the result of the previous step as the input to the next step.\n",
              "function _uploadFilesContinue(outputId) {\n",
              "  const outputElement = document.getElementById(outputId);\n",
              "  const steps = outputElement.steps;\n",
              "\n",
              "  const next = steps.next(outputElement.lastPromiseValue);\n",
              "  return Promise.resolve(next.value.promise).then((value) => {\n",
              "    // Cache the last promise value to make it available to the next\n",
              "    // step of the generator.\n",
              "    outputElement.lastPromiseValue = value;\n",
              "    return next.value.response;\n",
              "  });\n",
              "}\n",
              "\n",
              "/**\n",
              " * Generator function which is called between each async step of the upload\n",
              " * process.\n",
              " * @param {string} inputId Element ID of the input file picker element.\n",
              " * @param {string} outputId Element ID of the output display.\n",
              " * @return {!Iterable<!Object>} Iterable of next steps.\n",
              " */\n",
              "function* uploadFilesStep(inputId, outputId) {\n",
              "  const inputElement = document.getElementById(inputId);\n",
              "  inputElement.disabled = false;\n",
              "\n",
              "  const outputElement = document.getElementById(outputId);\n",
              "  outputElement.innerHTML = '';\n",
              "\n",
              "  const pickedPromise = new Promise((resolve) => {\n",
              "    inputElement.addEventListener('change', (e) => {\n",
              "      resolve(e.target.files);\n",
              "    });\n",
              "  });\n",
              "\n",
              "  const cancel = document.createElement('button');\n",
              "  inputElement.parentElement.appendChild(cancel);\n",
              "  cancel.textContent = 'Cancel upload';\n",
              "  const cancelPromise = new Promise((resolve) => {\n",
              "    cancel.onclick = () => {\n",
              "      resolve(null);\n",
              "    };\n",
              "  });\n",
              "\n",
              "  // Wait for the user to pick the files.\n",
              "  const files = yield {\n",
              "    promise: Promise.race([pickedPromise, cancelPromise]),\n",
              "    response: {\n",
              "      action: 'starting',\n",
              "    }\n",
              "  };\n",
              "\n",
              "  cancel.remove();\n",
              "\n",
              "  // Disable the input element since further picks are not allowed.\n",
              "  inputElement.disabled = true;\n",
              "\n",
              "  if (!files) {\n",
              "    return {\n",
              "      response: {\n",
              "        action: 'complete',\n",
              "      }\n",
              "    };\n",
              "  }\n",
              "\n",
              "  for (const file of files) {\n",
              "    const li = document.createElement('li');\n",
              "    li.append(span(file.name, {fontWeight: 'bold'}));\n",
              "    li.append(span(\n",
              "        `(${file.type || 'n/a'}) - ${file.size} bytes, ` +\n",
              "        `last modified: ${\n",
              "            file.lastModifiedDate ? file.lastModifiedDate.toLocaleDateString() :\n",
              "                                    'n/a'} - `));\n",
              "    const percent = span('0% done');\n",
              "    li.appendChild(percent);\n",
              "\n",
              "    outputElement.appendChild(li);\n",
              "\n",
              "    const fileDataPromise = new Promise((resolve) => {\n",
              "      const reader = new FileReader();\n",
              "      reader.onload = (e) => {\n",
              "        resolve(e.target.result);\n",
              "      };\n",
              "      reader.readAsArrayBuffer(file);\n",
              "    });\n",
              "    // Wait for the data to be ready.\n",
              "    let fileData = yield {\n",
              "      promise: fileDataPromise,\n",
              "      response: {\n",
              "        action: 'continue',\n",
              "      }\n",
              "    };\n",
              "\n",
              "    // Use a chunked sending to avoid message size limits. See b/62115660.\n",
              "    let position = 0;\n",
              "    do {\n",
              "      const length = Math.min(fileData.byteLength - position, MAX_PAYLOAD_SIZE);\n",
              "      const chunk = new Uint8Array(fileData, position, length);\n",
              "      position += length;\n",
              "\n",
              "      const base64 = btoa(String.fromCharCode.apply(null, chunk));\n",
              "      yield {\n",
              "        response: {\n",
              "          action: 'append',\n",
              "          file: file.name,\n",
              "          data: base64,\n",
              "        },\n",
              "      };\n",
              "\n",
              "      let percentDone = fileData.byteLength === 0 ?\n",
              "          100 :\n",
              "          Math.round((position / fileData.byteLength) * 100);\n",
              "      percent.textContent = `${percentDone}% done`;\n",
              "\n",
              "    } while (position < fileData.byteLength);\n",
              "  }\n",
              "\n",
              "  // All done.\n",
              "  yield {\n",
              "    response: {\n",
              "      action: 'complete',\n",
              "    }\n",
              "  };\n",
              "}\n",
              "\n",
              "scope.google = scope.google || {};\n",
              "scope.google.colab = scope.google.colab || {};\n",
              "scope.google.colab._files = {\n",
              "  _uploadFiles,\n",
              "  _uploadFilesContinue,\n",
              "};\n",
              "})(self);\n",
              "</script> "
            ]
          },
          "metadata": {}
        },
        {
          "output_type": "stream",
          "name": "stdout",
          "text": [
            "Saving rag.txt to rag (5).txt\n"
          ]
        }
      ]
    },
    {
      "cell_type": "markdown",
      "source": [
        "## Vector store"
      ],
      "metadata": {
        "id": "Zt74PODuTjEK"
      }
    },
    {
      "cell_type": "code",
      "source": [
        "from langchain.llms.anthropic import Anthropic\n",
        "from langchain_aws.embeddings.bedrock import BedrockEmbeddings\n",
        "from langchain.vectorstores import Chroma\n",
        "\n",
        "# 3. Inizializza il provider di embeddings utilizzando BedrockEmbeddings\n",
        "#    Specifica il modello e la regione AWS in cui è disponibile Bedrock.\n",
        "#    Consulta la documentazione per impostare eventuali parametri aggiuntivi.\n",
        "bedrock_embeddings = BedrockEmbeddings(\n",
        "    client=bedrock_client,\n",
        "    model_id=\"amazon.titan-embed-text-v2:0\",  # Esempio: sostituisci con l'ID del modello desiderato\n",
        "    region_name=\"eu-west-1\"         # Sostituisci con la regione corretta\n",
        ")\n",
        "\n",
        "# 4. Crea il vector store con Chroma utilizzando i documenti e gli embeddings di Bedrock\n",
        "vectorstore = Chroma.from_documents(\n",
        "    documents,\n",
        "    bedrock_embeddings,\n",
        "    collection_name=\"faq_collection\"  # Nome della collezione\n",
        ")\n",
        "\n",
        "# 5. Configura il retriever per ottenere, ad esempio, i 3 documenti più rilevanti per ogni query\n",
        "retriever = vectorstore.as_retriever(search_kwargs={\"k\": 3})\n"
      ],
      "metadata": {
        "id": "sXqKff07CJGz"
      },
      "execution_count": 8,
      "outputs": []
    },
    {
      "cell_type": "markdown",
      "source": [
        "## Retrieval"
      ],
      "metadata": {
        "id": "Yc_KNTHmTk7W"
      }
    },
    {
      "cell_type": "code",
      "execution_count": 13,
      "metadata": {
        "colab": {
          "base_uri": "https://localhost:8080/"
        },
        "id": "6h7URdbd9O3b",
        "outputId": "13419614-408a-4fb2-91a2-81861e295e8f"
      },
      "outputs": [
        {
          "output_type": "stream",
          "name": "stdout",
          "text": [
            "Risposta: {'query': 'Come posso risolvere il problema della connessione a Internet?', 'result': 'Sulla base delle informazioni fornite, ecco alcuni suggerimenti per risolvere il problema di connessione a Internet:\\n\\n- Verifica la configurazione del tuo dispositivo: assicurati che le impostazioni di rete siano corrette e che il dispositivo sia configurato correttamente per connettersi a Internet.\\n\\n- Riavvia il dispositivo e il router/modem: spesso un semplice riavvio può risolvere problemi temporanei di connessione.\\n\\n- Controlla il cavo Ethernet o la connessione Wi-Fi: verifica che il cavo sia inserito correttamente e che il segnale Wi-Fi sia presente e forte.\\n\\n- Verifica eventuali interruzioni del servizio: controlla sul sito web o sui canali social del tuo provider se ci sono segnalazioni di problemi di rete nella tua zona.\\n\\n- Contatta il servizio clienti del tuo provider: se i passaggi precedenti non risolvono il problema, contatta il supporto tecnico del tuo provider di Internet, che potrà aiutarti a diagnosticare e risolvere il problema.\\n\\nSe non riesci a risolvere il problema in autonomia, il supporto tecnico del tuo provider sarà in grado di fornire ulteriore assistenza e individuare la causa del problema di connessione.'}\n"
          ]
        }
      ],
      "source": [
        "from langchain.chains import RetrievalQA\n",
        "\n",
        "# 7. Crea la catena RetrievalQA che integra il retriever e il modello LLM\n",
        "qa_chain = RetrievalQA.from_chain_type(llm=llm_bedrock, chain_type=\"stuff\", retriever=retriever)\n",
        "\n",
        "# 8. Esegui una query per ottenere una risposta in modalità RAG\n",
        "query = \"Come posso risolvere il problema della connessione a Internet?\"\n",
        "result = qa_chain.invoke(query)\n"
      ]
    },
    {
      "cell_type": "markdown",
      "source": [
        "## Display output"
      ],
      "metadata": {
        "id": "SgZS9vUPTsUy"
      }
    },
    {
      "cell_type": "code",
      "source": [
        "from IPython.display import display, Markdown\n",
        "import json\n",
        "\n",
        "display(Markdown(f\"### Riassunto:\\n\\n{result['result']}\"))\n"
      ],
      "metadata": {
        "colab": {
          "base_uri": "https://localhost:8080/",
          "height": 275
        },
        "id": "0U6EiRV5CpMr",
        "outputId": "831b2798-d420-4da6-ea15-6a4464826ded"
      },
      "execution_count": 18,
      "outputs": [
        {
          "output_type": "display_data",
          "data": {
            "text/plain": [
              "<IPython.core.display.Markdown object>"
            ],
            "text/markdown": "### Riassunto:\n\nSulla base delle informazioni fornite, ecco alcuni suggerimenti per risolvere il problema di connessione a Internet:\n\n- Verifica la configurazione del tuo dispositivo: assicurati che le impostazioni di rete siano corrette e che il dispositivo sia configurato correttamente per connettersi a Internet.\n\n- Riavvia il dispositivo e il router/modem: spesso un semplice riavvio può risolvere problemi temporanei di connessione.\n\n- Controlla il cavo Ethernet o la connessione Wi-Fi: verifica che il cavo sia inserito correttamente e che il segnale Wi-Fi sia presente e forte.\n\n- Verifica eventuali interruzioni del servizio: controlla sul sito web o sui canali social del tuo provider se ci sono segnalazioni di problemi di rete nella tua zona.\n\n- Contatta il servizio clienti del tuo provider: se i passaggi precedenti non risolvono il problema, contatta il supporto tecnico del tuo provider di Internet, che potrà aiutarti a diagnosticare e risolvere il problema.\n\nSe non riesci a risolvere il problema in autonomia, il supporto tecnico del tuo provider sarà in grado di fornire ulteriore assistenza e individuare la causa del problema di connessione."
          },
          "metadata": {}
        }
      ]
    }
  ]
}